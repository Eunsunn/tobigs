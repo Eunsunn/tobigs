{
 "cells": [
  {
   "cell_type": "code",
   "execution_count": null,
   "metadata": {},
   "outputs": [],
   "source": [
    "import pandas as pd\n",
    "from tqdm import trange "
   ]
  },
  {
   "cell_type": "code",
   "execution_count": null,
   "metadata": {},
   "outputs": [],
   "source": [
    "df = pd.read_csv('group_call_HMS.csv')\n",
    "df.head()"
   ]
  },
  {
   "cell_type": "markdown",
   "metadata": {},
   "source": [
    "\n",
    "<h2 id=\"1.-총통화횟수\">1. 총통화횟수<a class=\"anchor-link\" href=\"#1.-총통화횟수\">¶</a></h2>\n"
   ]
  },
  {
   "cell_type": "code",
   "execution_count": null,
   "metadata": {},
   "outputs": [],
   "source": [
    "temp_hash = (i for i in df['hashed'])"
   ]
  },
  {
   "cell_type": "code",
   "execution_count": null,
   "metadata": {},
   "outputs": [],
   "source": [
    "call_num = {}\n",
    "for i in trange(len(df)):\n",
    "    t_h = next(temp_hash)\n",
    "    split_hash = t_h.split(',')\n",
    "    for j in split_hash:\n",
    "        if j not in call_num.keys():\n",
    "            call_num[j] = 1\n",
    "        else:\n",
    "            call_num[j] += 1"
   ]
  },
  {
   "cell_type": "markdown",
   "metadata": {},
   "source": [
    "\n",
    "<h2 id=\"2.-총통화시간\">2. 총통화시간<a class=\"anchor-link\" href=\"#2.-총통화시간\">¶</a></h2>\n"
   ]
  },
  {
   "cell_type": "code",
   "execution_count": null,
   "metadata": {},
   "outputs": [],
   "source": [
    "#통화일수, 시작시각, 종료시각을 초로 바꾸기\n",
    "temp_hash = (i for i in df['hashed'])\n",
    "temp_start_day = (i for i in df['call_start_day'])\n",
    "temp_end_day = (i for i in df['call_end_day'])\n",
    "temp_start = (i for i in df['call_start_time'])\n",
    "temp_end = (i for i in df['call_end_time'])"
   ]
  },
  {
   "cell_type": "code",
   "execution_count": null,
   "metadata": {},
   "outputs": [],
   "source": [
    "duration = {}\n",
    "for i in trange(len(df)):\n",
    "    ##통화일수 > 초\n",
    "    temp_day = next(temp_end_day) - next(temp_start_day)\n",
    "    temp_day *= 24*60*60\n",
    "    \n",
    "    ##시작시간, 종료시각 > 초\n",
    "    tmp_st = next(temp_start)\n",
    "    tmp_end = next(temp_end)\n",
    "    # \":\"을 기준으로 시, 분, 초 나누기\n",
    "    split_st = tmp_st.split(\":\")\n",
    "    split_end = tmp_end.split(\":\")\n",
    "    # 시간을 초로 바꾸기\n",
    "    st_time = 0\n",
    "    end_time = 0\n",
    "    for n, i in enumerate(split_st):\n",
    "        st_time += float(i) * (60**(len(split_st)-1-float(n)))\n",
    "    for n, j in enumerate(split_end):\n",
    "        end_time += float(j) * (60**(len(split_end)-1-float(n)))\n",
    "    \n",
    "    ##총 통화시간(초)\n",
    "    time = temp_day + (end_time - st_time)\n",
    "\n",
    "    #사람을 key로 받고, 통화시간이 value인 딕셔너리(duration)에 추가\n",
    "    tmp_hash = next(temp_hash)\n",
    "    for j in tmp_hash.split(\",\"):\n",
    "        if j not in duration:\n",
    "            duration[j] = time\n",
    "        else:\n",
    "            duration[j] += time"
   ]
  },
  {
   "cell_type": "markdown",
   "metadata": {},
   "source": [
    "\n",
    "<h2 id=\"3.-평균통화시간\">3. 평균통화시간<a class=\"anchor-link\" href=\"#3.-평균통화시간\">¶</a></h2>\n"
   ]
  },
  {
   "cell_type": "code",
   "execution_count": null,
   "metadata": {},
   "outputs": [],
   "source": [
    "#위에서 만든 총통화횟수와 총통화시간의 key가 같은지 확인하기(배열순서)\n",
    "temp_num = (i for i in call_num)\n",
    "temp_duration = (i for i in duration) #딕셔너리의 key\n",
    "length = len(duration)\n",
    "\n",
    "key = []\n",
    "for i in trange(length): \n",
    "    tmp_num = next(temp_num)\n",
    "    tmp_duration = next(temp_duration)\n",
    "    if tmp_num == tmp_duration:\n",
    "        key.append(True)\n",
    "    else:\n",
    "        key.append(False)\n",
    "        \n",
    "# 사용자 수와 같으므로 call_num과 duration의 배열순서는 같다\n",
    "sum(key)"
   ]
  },
  {
   "cell_type": "code",
   "execution_count": null,
   "metadata": {},
   "outputs": [],
   "source": [
    "temp_key = (i for i in call_num.keys())\n",
    "temp_num = (i for i in call_num.values())\n",
    "temp_duration = (i for i in duration.values())"
   ]
  },
  {
   "cell_type": "code",
   "execution_count": null,
   "metadata": {},
   "outputs": [],
   "source": [
    "length = len(duration)\n",
    "\n",
    "avr_duration = {}\n",
    "for i in trange(length):\n",
    "    tmp_key = next(temp_key)\n",
    "    tmp_num = next(temp_num)\n",
    "    tmp_duration = next(temp_duration)\n",
    "    avr_duration[tmp_key] = tmp_duration / tmp_num"
   ]
  },
  {
   "cell_type": "markdown",
   "metadata": {},
   "source": [
    "\n",
    "<h2 id=\"4.-총통화인원수\">4. 총통화인원수<a class=\"anchor-link\" href=\"#4.-총통화인원수\">¶</a></h2>\n"
   ]
  },
  {
   "cell_type": "code",
   "execution_count": null,
   "metadata": {},
   "outputs": [],
   "source": [
    "temp_hash = (i for i in df['hashed'])"
   ]
  },
  {
   "cell_type": "code",
   "execution_count": null,
   "metadata": {},
   "outputs": [],
   "source": [
    "total_cp = {}\n",
    "length = len(df)\n",
    "\n",
    "for i in trange(length):\n",
    "    tmp_hash = next(temp_hash)\n",
    "    call_people = len(tmp_hash.split(\",\"))\n",
    "    for j in tmp_hash.split(\",\"):\n",
    "        if j not in total_cp:\n",
    "            total_cp[j] = (call_people-1)\n",
    "        else:\n",
    "            total_cp[j] += (call_people-1)"
   ]
  },
  {
   "cell_type": "markdown",
   "metadata": {},
   "source": [
    "\n",
    "<h2 id=\"5.-평균통화인원수\">5. 평균통화인원수<a class=\"anchor-link\" href=\"#5.-평균통화인원수\">¶</a></h2>\n"
   ]
  },
  {
   "cell_type": "code",
   "execution_count": null,
   "metadata": {},
   "outputs": [],
   "source": [
    "# 위에서 만든 총통화횟수와 총통화인원수의 배열순서가 같은지 확인하기\n",
    "temp_num = (i for i in call_num)\n",
    "temp_cp = (i for i in total_cp) #딕셔너리의 key\n",
    "length = len(duration)\n",
    "\n",
    "key = []\n",
    "for i in trange(length): \n",
    "    tmp_num = next(temp_num)\n",
    "    tmp_cp = next(temp_cp)\n",
    "    if tmp_num == tmp_cp:\n",
    "        key.append(True)\n",
    "    else:\n",
    "        key.append(False)\n",
    "        \n",
    "# 배열순서는 같다\n",
    "sum(key)==len(call_num)"
   ]
  },
  {
   "cell_type": "code",
   "execution_count": null,
   "metadata": {},
   "outputs": [],
   "source": [
    "key = (i for i in call_num.keys())\n",
    "temp_num = (i for i in call_num.values())\n",
    "temp_cp = (i for i in total_cp.values())\n",
    "\n",
    "avr_cp = {}\n",
    "for i in trange(len(call_num)):\n",
    "    tmp_key= next(key)\n",
    "    tmp_num = next(temp_num)\n",
    "    tmp_cp = next(temp_cp)\n",
    "    avr_cp[tmp_key] = tmp_cp / tmp_num"
   ]
  },
  {
   "cell_type": "markdown",
   "metadata": {},
   "source": [
    "\n",
    "<h2 id=\"6.평균-통화시간대\">6.평균 통화시간대<a class=\"anchor-link\" href=\"#6.평균-통화시간대\">¶</a></h2>\n"
   ]
  },
  {
   "cell_type": "code",
   "execution_count": null,
   "metadata": {},
   "outputs": [],
   "source": [
    "# 6시~12시:1/ 12시~18시:2/ 18시~24시:3/ 00시~6시:4 로 encoding\n",
    "# 어린이, 주부, 노인들은 주로 낮에 통화하므로 숫자가 작을 것 같고, 직장인또는 대학생은 숫자가 클 것이다."
   ]
  },
  {
   "cell_type": "markdown",
   "metadata": {},
   "source": [
    "\n",
    "<h3 id=\"시작시간-기준\">시작시간 기준<a class=\"anchor-link\" href=\"#시작시간-기준\">¶</a></h3>\n"
   ]
  },
  {
   "cell_type": "code",
   "execution_count": null,
   "metadata": {},
   "outputs": [],
   "source": [
    "temp_start = (i for i in df['call_start_time'])\n",
    "temp_hash = (i for i in df['hashed'])\n",
    "length = len(df)"
   ]
  },
  {
   "cell_type": "code",
   "execution_count": null,
   "metadata": {},
   "outputs": [],
   "source": [
    "st_time = {}\n",
    "for i in trange(length):\n",
    "    tmp_st = next(temp_start)\n",
    "    tmp_hash = next(temp_hash)\n",
    "    \n",
    "    #시간만 추출\n",
    "    tmp_st = int(tmp_st.split(\":\")[0])\n",
    "    #시간대로 변경\n",
    "    if tmp_st>6 and tmp_st<=12:\n",
    "        tmp_st = 1\n",
    "    elif tmp_st>12 and tmp_st<=18:\n",
    "        tmp_st = 2\n",
    "    elif tmp_st>18 and tmp_st<=24:\n",
    "        tmp_st = 3\n",
    "    else:\n",
    "        tmp_st = 4\n",
    "    \n",
    "    #사람별 합하기\n",
    "    for j in tmp_hash.split(\",\"):\n",
    "        if j not in st_time:\n",
    "            st_time[j] = tmp_st\n",
    "        else:\n",
    "            st_time[j] += tmp_st"
   ]
  },
  {
   "cell_type": "code",
   "execution_count": null,
   "metadata": {},
   "outputs": [],
   "source": [
    "# 위에서 만든 총통화횟수와 총통화인원수의 배열순서가 같은지 확인하기\n",
    "temp_num = (i for i in call_num)\n",
    "temp_st = (i for i in st_time) #딕셔너리의 key\n",
    "length = len(call_num)\n",
    "\n",
    "key = []\n",
    "for i in trange(length): \n",
    "    tmp_num = next(temp_num)\n",
    "    tmp_st = next(temp_st)\n",
    "    if tmp_num == tmp_st:\n",
    "        key.append(True)\n",
    "    else:\n",
    "        key.append(False)\n",
    "        \n",
    "# 배열순서는 같다\n",
    "sum(key)==len(call_num)"
   ]
  },
  {
   "cell_type": "code",
   "execution_count": null,
   "metadata": {},
   "outputs": [],
   "source": [
    "key = (i for i in call_num.keys())\n",
    "temp_num = (i for i in call_num.values())\n",
    "temp_st = (i for i in st_time.values())"
   ]
  },
  {
   "cell_type": "code",
   "execution_count": null,
   "metadata": {},
   "outputs": [],
   "source": [
    "avr_time = {}\n",
    "for i in trange(length):\n",
    "    tmp_key = next(key)\n",
    "    tmp_num = next(temp_num)\n",
    "    tmp_st = next(temp_st)\n",
    "    avr_time[tmp_key] = tmp_st / tmp_num"
   ]
  }
 ],
 "metadata": {
  "kernelspec": {
   "display_name": "Python 3",
   "language": "python",
   "name": "python3"
  },
  "language_info": {
   "codemirror_mode": {
    "name": "ipython",
    "version": 3
   },
   "file_extension": ".py",
   "mimetype": "text/x-python",
   "name": "python",
   "nbconvert_exporter": "python",
   "pygments_lexer": "ipython3",
   "version": "3.7.6"
  }
 },
 "nbformat": 4,
 "nbformat_minor": 1
}

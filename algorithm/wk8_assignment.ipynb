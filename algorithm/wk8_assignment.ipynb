{
 "cells": [
  {
   "cell_type": "code",
   "execution_count": null,
   "metadata": {},
   "outputs": [],
   "source": [
    "import numpy as np"
   ]
  },
  {
   "cell_type": "code",
   "execution_count": null,
   "metadata": {},
   "outputs": [],
   "source": [
    "#Assignment 1\n",
    "\n",
    "#숫자삼각형을 이중리스트로 저장하기\n",
    "a = [[7],[3,8],[8,1,0],[2,7,4,4],[4,5,2,6,5]]\n",
    "\n",
    "#최장경로값을 담을 리스트 생성\n",
    "dp = a\n",
    "    \n",
    "#밖의 for문은 행의 개수만큼 돌아야 한다.\n",
    "for i in range(len(a)):\n",
    "    #첫번째 값 초기화\n",
    "    if i == 0:\n",
    "        dp[0][0] = a[0][0]\n",
    "    #두번째 줄은 첫번째줄이 하나이니까 max를 사용해서 구할 수없어서 예외처리한다.\n",
    "    elif i == 1 :\n",
    "        #안의 for문은 행의 원소의 개수(=몇번째 열인지)로 돌아야 한다.\n",
    "        for j in range(i+1): #i+1로 해야함!! <<<<주의하기>>>>>\n",
    "            dp[i][j] = (a[i][j] + a[i-1][i-1])\n",
    "    #세번째줄 이상(같은 구조)\n",
    "    else:\n",
    "        #안의 for문은 행의 원소의 개수(=몇번째 열인지)로 돌아야 한다.\n",
    "        for j in range(i+1):\n",
    "            #i번째 행의 첫번째 수는 (i-1)번째 행의 첫번째 수에서만 올 수 있음\n",
    "            if j == 0:\n",
    "                dp[i][j] = (dp[i-1][j] + a[i][j])\n",
    "            #i번째 행의 마지막 수는 (i-1)번째 행의 마지막 수에서만 올 수 있음\n",
    "            elif j == i:\n",
    "                dp[i][j] = (dp[i-1][j-1] + a[i][j])\n",
    "            #i번째 행의 첫번째, 마지막 원소를 제외한 나머지: 위의 두 갈래 경로중에 max값을 택한다.\n",
    "            else:\n",
    "                dp[i][j] = max(dp[i-1][j-1], dp[i-1][j]) + a[i][j]\n",
    "\n",
    "print(dp)"
   ]
  },
  {
   "cell_type": "code",
   "execution_count": null,
   "metadata": {},
   "outputs": [],
   "source": [
    "#경로합 최대\n",
    "max(dp[4])"
   ]
  },
  {
   "cell_type": "code",
   "execution_count": null,
   "metadata": {},
   "outputs": [],
   "source": [
    "#Assignment 2\n",
    "\n",
    "def max_gold(dp):\n",
    "    \n",
    "    #dp는 각 방에 들어있는 금괴의 수(matrix형태)로, 입력받아야 하는 값이다.\n",
    "    dp = dp\n",
    "    \n",
    "    row = len(dp)\n",
    "    col = len(dp[0])\n",
    "    \n",
    "    for i in range(row):\n",
    "        #첫번째 행은 왼쪽에서 오는 방법밖에 없으니까 따로 예외처리한다.\n",
    "        if i == 0:\n",
    "            for j in range(col):\n",
    "                if j >=1:\n",
    "                    dp[i][j] = dp[i][j] + dp[i][j-1]\n",
    "        #2번째 이상의 행\n",
    "        else:\n",
    "            for j in range(col):\n",
    "                #i번째 행의 첫번째 방은 (i-1)번째 행의 첫번째 방에서 오는 길 밖에 없다.\n",
    "                if j == 0:\n",
    "                    dp[i][j] = dp[i][j] + dp[i-1][j]\n",
    "                else:\n",
    "                    #i번쨰 행의 j번째 방은 대각선 위(i-1,j-1), 위(i-1,j), 왼쪽(i,j-1)에서 오는 방법중 최대를 택한다\n",
    "                    dp[i][j] = dp[i][j] + max(dp[i-1][j-1], dp[i-1][j], dp[i][j-1])\n",
    "    \n",
    "    #금괴의 최대값\n",
    "    gold = np.amax(dp)\n",
    "    return(gold)"
   ]
  },
  {
   "cell_type": "code",
   "execution_count": null,
   "metadata": {},
   "outputs": [],
   "source": [
    "#3x4 matrix일때 최댓값\n",
    "dp = np.array([[1,2,3,4],[0,0,0,5],[9,8,7,6]]) \n",
    "max_gold(dp)"
   ]
  },
  {
   "cell_type": "code",
   "execution_count": null,
   "metadata": {},
   "outputs": [],
   "source": [
    "#Assignment 3\n",
    "\n",
    "def mult(length, file_size):\n",
    "    \n",
    "    #입력받는 값의 개수\n",
    "    n = length\n",
    "    \n",
    "    #인풋을 [(idx1, file_size1), (idx2, file_size2)...] 형태로 만들기\n",
    "    chain = []\n",
    "    for idx, i in enumerate(file_size):\n",
    "        new = (idx, i)\n",
    "        chain.append(new)\n",
    "\n",
    "    # 비용이 0인 초기 matrix 만들기\n",
    "    aux = {(i, i): (0,) + chain[i] for i in range(n)} #0을 채워넣는 이유는 합치지 않을때 비용이 없기 때문에\n",
    "    \n",
    "    # i: length of subchain\n",
    "    for i in range(1, n):\n",
    "        # j: starting index of subchain\n",
    "        for j in range(0, n - i): #i=1 >j=(0~2)  i=2 >j=(0~1) , 이웃한 값의 비용을 계산하기위해 이렇게 for문을 씀\n",
    "            best = float('inf')\n",
    "            # k: splitting point of subchain\n",
    "            for k in range(j, j + i):\n",
    "                #multiply subchains at splitting point\n",
    "                lcost, lname, lsize = aux[j, k] #앞 파일\n",
    "                rcost, rname, rsize = aux[k + 1, j + i] #뒤 파일\n",
    "                cost = lcost + rcost + lsize + rsize\n",
    "                var = '(%s%s)' % (lname, rname) #병합 표시\n",
    "                # 비용이 가장 작은것을 선택하기\n",
    "                if cost < best:\n",
    "                    best = cost\n",
    "                    aux[j, j + i] = cost, var, lsize+rsize\n",
    "    return dict(zip(['cost', 'order', 'size'], aux[0, n - 1]))"
   ]
  },
  {
   "cell_type": "code",
   "execution_count": null,
   "metadata": {},
   "outputs": [],
   "source": [
    "a = [1, 21, 3, 4, 5, 35, 5, 4, 3, 5, 98, 21, 14, 17, 32]"
   ]
  },
  {
   "cell_type": "code",
   "execution_count": null,
   "metadata": {},
   "outputs": [],
   "source": [
    "mult(len(a), a)"
   ]
  }
 ],
 "metadata": {
  "kernelspec": {
   "display_name": "Python 3",
   "language": "python",
   "name": "python3"
  },
  "language_info": {
   "codemirror_mode": {
    "name": "ipython",
    "version": 3
   },
   "file_extension": ".py",
   "mimetype": "text/x-python",
   "name": "python",
   "nbconvert_exporter": "python",
   "pygments_lexer": "ipython3",
   "version": "3.7.6"
  }
 },
 "nbformat": 4,
 "nbformat_minor": 1
}

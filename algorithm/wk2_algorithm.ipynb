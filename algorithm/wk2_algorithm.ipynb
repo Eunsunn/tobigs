{
 "cells": [
  {
   "cell_type": "code",
   "execution_count": null,
   "metadata": {},
   "outputs": [],
   "source": [
    "#1.\n",
    "x = \"Loving can heal, loving can mend your soul.\"\n",
    "#x = input()\n",
    "\n",
    "#, .등 삭제하기\n",
    "x=x.replace(\",\",\"\")\n",
    "x=x.replace(\".\",\"\")\n",
    "\n",
    "#문자열 분리\n",
    "x = x.split(\" \")\n",
    "\n",
    "#소문자로 바꾸기\n",
    "def lower(x):\n",
    "    for i in range(len(x)):\n",
    "        x[i] = x[i].lower()\n",
    "        return x\n",
    "x = lower(x)\n",
    "\n",
    "#데이터형을 set으로 바꾸기(중복x)\n",
    "x = set(x)\n",
    "#. , 등 구분자 기호 삭제\n",
    "if \".\" in x:\n",
    "    x.remove(\".\")\n",
    "if \",\" in x:\n",
    "    x.remove(\",\")\n",
    "\n",
    "#중복제외 개수출력\n",
    "print(len(x))"
   ]
  },
  {
   "cell_type": "code",
   "execution_count": 19,
   "metadata": {},
   "outputs": [
    {
     "data": {
      "text/plain": [
       "3"
      ]
     },
     "execution_count": 19,
     "metadata": {},
     "output_type": "execute_result"
    }
   ],
   "source": [
    "#2.\n",
    "string = \"ABCABCDABCABEABCDEFBCABCCA\" #x\n",
    "object_string = \"BCA\" #y\n",
    "\n",
    "# string = input(\"전체 문자열 입력:\")\n",
    "# object_string = input(\"포함 개수를 셀 문자열 입력:\")\n",
    "\n",
    "def include_y(x,y):\n",
    "    number = 0\n",
    "    for i in range(0,len(x)-len(y)+1):\n",
    "        if x[i:i+3] == y: #x의 일부가 y와 같을때 숫자(횟수)를 1만큼 증가시킴\n",
    "            number += 1\n",
    "        else:\n",
    "            pass\n",
    "    return (number)\n",
    "\n",
    "include_y(string,object_string)\n"
   ]
  },
  {
   "cell_type": "code",
   "execution_count": 36,
   "metadata": {},
   "outputs": [
    {
     "data": {
      "text/plain": [
       "'aabbbbbc'"
      ]
     },
     "execution_count": 36,
     "metadata": {},
     "output_type": "execute_result"
    }
   ],
   "source": [
    "#3.\n",
    "def uncompress(s):\n",
    "    #입력받는 문자열의 홀수 인덱스\n",
    "    odd_index = range(len(s))[::2]\n",
    "    #결과를 담는 빈 문자열 생성\n",
    "    x = \"\"\n",
    "    for i in odd_index:\n",
    "        #매 반복시 생기는 문자열\n",
    "        y = s[i+1]*int(s[i])\n",
    "        #전체 문자열에 추가\n",
    "        x = x+y\n",
    "    return(x)\n",
    "\n",
    "#uncompress(\"2a5b1c\")"
   ]
  },
  {
   "cell_type": "code",
   "execution_count": 9,
   "metadata": {},
   "outputs": [
    {
     "name": "stdout",
     "output_type": "stream",
     "text": [
      "Enter one word: temporary\n",
      " vowel a : 1 \n",
      " vowel e : 1 \n",
      " vowel i : 0 \n",
      " vowel o : 1 \n",
      " vowel u : 0\n"
     ]
    }
   ],
   "source": [
    "#4.\n",
    "word = input(\"Enter one word: \")\n",
    "#word = \"temporary\"\n",
    "\n",
    "#문자열 자르기\n",
    "x = list(word)\n",
    "\n",
    "#알파벳(key)과 횟수(값)를 딕셔너리로 받기\n",
    "x_dict = {\"a\" : 0, \"e\" : 0, \"i\" : 0, \"o\" : 0, \"u\" : 0}\n",
    "for i in range(len(x)):\n",
    "    if x[i] in dict.keys(x_dict):\n",
    "        x_dict[x[i]] += 1\n",
    "\n",
    "print(\" vowel a :\", x_dict[\"a\"],\"\\n\",\n",
    "      \"vowel e :\", x_dict[\"e\"],\"\\n\",\n",
    "      \"vowel i :\",x_dict[\"i\"],\"\\n\",\n",
    "      \"vowel o :\", x_dict[\"o\"],\"\\n\",\n",
    "      \"vowel u :\", x_dict[\"u\"])"
   ]
  },
  {
   "cell_type": "code",
   "execution_count": 28,
   "metadata": {},
   "outputs": [
    {
     "name": "stdout",
     "output_type": "stream",
     "text": [
      "Input a word!pen\n",
      "['pen', 'epn', 'enp', 'pne', 'npe', 'nep']\n",
      "There are 6 anagrams.\n"
     ]
    }
   ],
   "source": [
    "#5.\n",
    "from random import *\n",
    "\n",
    "word = input(\"Input a word!\")\n",
    "#word = \"support\" #2520개\n",
    "#word = \"pen\" #6개\n",
    "list_word = list(word)\n",
    "\n",
    "#팩토리얼 계산함수\n",
    "def factorial(x):\n",
    "    if x == 1:\n",
    "        fac_x = 1\n",
    "    else:\n",
    "        fac_x = factorial(x-1) * x\n",
    "    return fac_x\n",
    "\n",
    "#중복순열 계산함수\n",
    "def r_permu(word):\n",
    "    #입력받은 단어 list : 중복 o\n",
    "    list_word = list(word)\n",
    "    #입력받은 단어 set : 중복x\n",
    "    set_word = set(word)\n",
    "\n",
    "    #알파벳(key) : 반복횟수(value) 딕셔너리 만들기\n",
    "    dict_word = dict()\n",
    "    for i in set_word:\n",
    "        dict_word[str(i)] = 0\n",
    "    for i in list_word:\n",
    "        dict_word[str(i)] += 1\n",
    "\n",
    "    #중복순열의 분자\n",
    "    molecule = factorial(sum(dict_word.values()))\n",
    "    \n",
    "    #중복순열의 분모\n",
    "    deno_list = []\n",
    "    for i in dict_word.values():\n",
    "        deno_list.append(factorial(i))\n",
    "    denominator = 1 \n",
    "    for i in deno_list:\n",
    "        denominator = denominator * i\n",
    "\n",
    "    #중복순열 개수\n",
    "    r_permu = int(molecule / denominator)\n",
    "    return(r_permu)\n",
    "\n",
    "#입력받는 단어의 중복순열(anagram의 개수)\n",
    "r_permu(word)\n",
    "\n",
    "# anagram의 개수는 중복순열만큼 나와야함\n",
    "anagrams = []\n",
    "while len(anagrams) < r_permu(word):\n",
    "    ana = \"\"\n",
    "    #인덱스 범위\n",
    "    idx_range = range(len(word))\n",
    "    #랜덤 인덱스 생성\n",
    "    num_list = sample(idx_range, len(word))\n",
    "    #인덱스로 랜덤한 알파벳 생성\n",
    "    for i in num_list:\n",
    "        ana += word[i]\n",
    "    #새로 만든 단어가 anagrams에 없을때만 추가\n",
    "    if ana in anagrams:\n",
    "        pass\n",
    "    else:\n",
    "        anagrams.append(ana)\n",
    "\n",
    "print(anagrams)\n",
    "print(\"There are\", str(len(anagrams)), \"anagrams.\")"
   ]
  }
 ],
 "metadata": {
  "kernelspec": {
   "display_name": "Python 3",
   "language": "python",
   "name": "python3"
  },
  "language_info": {
   "codemirror_mode": {
    "name": "ipython",
    "version": 3
   },
   "file_extension": ".py",
   "mimetype": "text/x-python",
   "name": "python",
   "nbconvert_exporter": "python",
   "pygments_lexer": "ipython3",
   "version": "3.7.1"
  }
 },
 "nbformat": 4,
 "nbformat_minor": 2
}

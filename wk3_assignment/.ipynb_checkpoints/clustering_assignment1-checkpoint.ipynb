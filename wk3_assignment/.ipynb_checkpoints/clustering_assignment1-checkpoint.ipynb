{
 "cells": [
  {
   "cell_type": "code",
   "execution_count": null,
   "metadata": {},
   "outputs": [],
   "source": [
    "import pandas as pd\n",
    "from random import *\n",
    "from sklearn.metrics.pairwise import euclidean_distances\n",
    "from sklearn import datasets\n",
    "from sklearn.preprocessing import scale\n",
    "\n",
    "#k-means 알고리즘 구현하기\n",
    "def k_means (data, k) :\n",
    "    #Forgy 방식으로 초기 랜덤 centroid 설정 : 데이터중 k개를 선택하여 centroid로 설정\n",
    "    total_idx = list(range(data.shape[0]))\n",
    "    centroid_idx = sample(total_idx, k)\n",
    "    centroid = data.loc[centroid_idx, :]\n",
    "    #centroid가 바뀌지 않거나 일정한 반복횟수 이상 반복하기\n",
    "    for i in range(0,10**2):\n",
    "        #유클리드 거리를 계산하기위해 labels 칼럼을 생성한 경우 미리 삭제해\n",
    "        if i > 0:\n",
    "            data.drop('labels', axis=1, inplace = True)\n",
    "        #1. k개의 centroid와 각각의 데이터 사이의 거리(유클리드)\n",
    "        dist = pd.DataFrame(euclidean_distances(data, centroid))\n",
    "        #2. 가장 가까운 거리의 centroid의 군집으로 할당\n",
    "        for i in range(len(dist)):\n",
    "            data['labels'] = dist.idxmin(axis=1, skipna=True)\n",
    "        #3. 각각의 k개의 군집마다 새로운 centroid 구하기\n",
    "        centroid = data.groupby('labels').mean()\n",
    "    return data['labels']"
   ]
  },
  {
   "cell_type": "code",
   "execution_count": null,
   "metadata": {},
   "outputs": [],
   "source": [
    "#iris 데이터 불러오기\n",
    "iris = datasets.load_iris()\n",
    "#데이터프레임으로 바꾸기\n",
    "data = pd.DataFrame(iris.data)\n",
    "data.columns=['Sepal length','Sepal width','Petal length','Petal width']\n",
    "#원래 데이터 라벨\n",
    "real_labels = iris.target\n",
    "real_labels"
   ]
  },
  {
   "cell_type": "code",
   "execution_count": null,
   "metadata": {},
   "outputs": [],
   "source": [
    "#모델 fit\n",
    "predict = k_means(data,3)"
   ]
  },
  {
   "cell_type": "code",
   "execution_count": null,
   "metadata": {},
   "outputs": [],
   "source": [
    "#cross table로 분류 살펴보기\n",
    "#행이 원래 라벨, 열이 예측한 라벨\n",
    "ct = pd.crosstab(real_labels,predict)\n",
    "print (ct)"
   ]
  },
  {
   "cell_type": "code",
   "execution_count": null,
   "metadata": {},
   "outputs": [],
   "source": [
    "#accuracy\n",
    "accuracy1 = (50+36+47) / 150\n",
    "print(accuracy1)"
   ]
  },
  {
   "cell_type": "code",
   "execution_count": null,
   "metadata": {},
   "outputs": [],
   "source": [
    "#데이터 스케일링((X-mean(x))/sd(x))\n",
    "data.info()\n",
    "data.describe()\n",
    "data2 = pd.DataFrame(scale(data))"
   ]
  },
  {
   "cell_type": "code",
   "execution_count": null,
   "metadata": {},
   "outputs": [],
   "source": [
    "#스케일링 된 데이터로 예측\n",
    "new_predict = k_means(data2,3)"
   ]
  },
  {
   "cell_type": "code",
   "execution_count": null,
   "metadata": {},
   "outputs": [],
   "source": [
    "#cross table로 클러스터링 살펴보기\n",
    "#행이 원래 라벨, 열이 예측한 라벨\n",
    "ct2 = pd.crosstab(real_labels,new_predict)\n",
    "print (ct2)\n",
    "#accuarcy\n",
    "accuracy2 = (50+47+35) / 150\n",
    "print(accuracy2)"
   ]
  }
 ],
 "metadata": {
  "kernelspec": {
   "display_name": "Python 3",
   "language": "python",
   "name": "python3"
  },
  "language_info": {
   "codemirror_mode": {
    "name": "ipython",
    "version": 3
   },
   "file_extension": ".py",
   "mimetype": "text/x-python",
   "name": "python",
   "nbconvert_exporter": "python",
   "pygments_lexer": "ipython3",
   "version": "3.7.6"
  }
 },
 "nbformat": 4,
 "nbformat_minor": 1
}

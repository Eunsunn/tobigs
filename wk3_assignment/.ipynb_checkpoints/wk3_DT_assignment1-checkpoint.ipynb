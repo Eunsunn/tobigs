{
 "cells": [
  {
   "cell_type": "code",
   "execution_count": null,
   "metadata": {},
   "outputs": [],
   "source": [
    "import pandas as pd \n",
    "import numpy as np"
   ]
  },
  {
   "cell_type": "markdown",
   "metadata": {},
   "source": [
    "\n",
    "<h1 id=\"DT-문제-1번\">DT 문제 1번<a class=\"anchor-link\" href=\"#DT-문제-1번\">¶</a></h1>\n"
   ]
  },
  {
   "cell_type": "markdown",
   "metadata": {},
   "source": [
    "\n",
    "<h4 id=\"※함수에-들어가-있는-변수나-flow는-본인이-바꾸셔도-가능하며-결과만-똑같이-나오면-됩니다!\">※함수에 들어가 있는 변수나 flow는 본인이 바꾸셔도 가능하며 결과만 똑같이 나오면 됩니다!<a class=\"anchor-link\" href=\"#※함수에-들어가-있는-변수나-flow는-본인이-바꾸셔도-가능하며-결과만-똑같이-나오면-됩니다!\">¶</a></h4><h4 id=\"※hard코딩(이-데이터셋에만-적용되는-코딩방법)-말고-전체-데이터에-적용-가능하게-함수를-짜주셔야-합니다.\">※hard코딩(이 데이터셋에만 적용되는 코딩방법) 말고 전체 데이터에 적용 가능하게 함수를 짜주셔야 합니다.<a class=\"anchor-link\" href=\"#※hard코딩(이-데이터셋에만-적용되는-코딩방법)-말고-전체-데이터에-적용-가능하게-함수를-짜주셔야-합니다.\">¶</a></h4>\n"
   ]
  },
  {
   "cell_type": "markdown",
   "metadata": {},
   "source": [
    "\n",
    "<h1 id=\"Data-Loading\">Data Loading<a class=\"anchor-link\" href=\"#Data-Loading\">¶</a></h1>\n"
   ]
  },
  {
   "cell_type": "code",
   "execution_count": null,
   "metadata": {},
   "outputs": [],
   "source": [
    "pd_data = pd.read_csv('https://raw.githubusercontent.com/AugustLONG/ML01/master/01decisiontree/AllElectronics.csv')\n",
    "pd_data.drop(\"RID\",axis=1, inplace = True) #RID는 그냥 순서라서 삭제\n",
    "pd_data"
   ]
  },
  {
   "cell_type": "markdown",
   "metadata": {},
   "source": [
    "\n",
    "<h1 id=\"1.-Gini-계수에-대한-함수-만들기.\">1. Gini 계수에 대한 함수 만들기.<a class=\"anchor-link\" href=\"#1.-Gini-계수에-대한-함수-만들기.\">¶</a></h1>\n"
   ]
  },
  {
   "cell_type": "markdown",
   "metadata": {},
   "source": [
    "\n",
    "<ul>\n",
    "<li>Input은 Dataframe과 label이름으로 만들어주세요!</li>\n",
    "<li>해당 결과는 아래와 같이 나와야 합니다!</li>\n",
    "</ul>\n"
   ]
  },
  {
   "cell_type": "code",
   "execution_count": null,
   "metadata": {},
   "outputs": [],
   "source": [
    "def get_gini(df, label):\n",
    "    gini = None\n",
    "    #라벨별 비율\n",
    "    prob = df[label].value_counts(normalize=True, bins=None)\n",
    "    #확률 제곱합\n",
    "    prob_sq = []\n",
    "    for i in prob:\n",
    "        prob_sq.append(i**2)\n",
    "    gini = 1- sum(prob_sq)\n",
    "    return gini"
   ]
  },
  {
   "cell_type": "code",
   "execution_count": null,
   "metadata": {},
   "outputs": [],
   "source": [
    "get_gini(pd_data, 'class_buys_computer')"
   ]
  },
  {
   "cell_type": "markdown",
   "metadata": {},
   "source": [
    "\n",
    "<h1 id=\"2.-Feature의-Class를-이진-분류로-만들기\">2. Feature의 Class를 이진 분류로 만들기<a class=\"anchor-link\" href=\"#2.-Feature의-Class를-이진-분류로-만들기\">¶</a></h1><h2 id=\"ex)-{A,B,C}--&gt;-({A},-{B,C}),-({B},-{A,C}),-({C},-{A,B})\">ex) {A,B,C} -&gt; ({A}, {B,C}), ({B}, {A,C}), ({C}, {A,B})<a class=\"anchor-link\" href=\"#ex)-{A,B,C}--&gt;-({A},-{B,C}),-({B},-{A,C}),-({C},-{A,B})\">¶</a></h2><ul>\n",
    "<li>Powerset은 모든 조합을 뱉어내게 됩니다. 이건 그냥 완성된걸 드릴게요.</li>\n",
    "</ul>\n"
   ]
  },
  {
   "cell_type": "code",
   "execution_count": null,
   "metadata": {},
   "outputs": [],
   "source": [
    "from itertools import chain, combinations\n",
    "\n",
    "def powerset(feature_class):\n",
    "    listed_data = list(feature_class)\n",
    "    chain_set = chain.from_iterable(combinations(listed_data, i) \n",
    "                                    for i in range(len(listed_data)+1))\n",
    "    return [set_data for set_data in chain_set]"
   ]
  },
  {
   "cell_type": "code",
   "execution_count": null,
   "metadata": {},
   "outputs": [],
   "source": [
    "powerset(pd_data.age.unique())"
   ]
  },
  {
   "cell_type": "markdown",
   "metadata": {},
   "source": [
    "\n",
    "<ul>\n",
    "<li>저 위에 부분 집합 중 우리가 원하는 집합(이진 분류)만 골라 내야하겠죠?</li>\n",
    "<li>그 함수를 get_binary_split로 완성해주세요!</li>\n",
    "<li>완성된 내용은 다음과 같이 나와야 합니다.</li>\n",
    "</ul>\n"
   ]
  },
  {
   "cell_type": "code",
   "execution_count": null,
   "metadata": {},
   "outputs": [],
   "source": [
    "def get_binary_split(df, attribute):\n",
    "    result = []\n",
    "    pws = powerset(df[attribute].unique())\n",
    "    #0개인 원소 삭제\n",
    "    for i in pws:\n",
    "        if len(i) == 0:\n",
    "            pws.remove(i)\n",
    "    #powerset의 두개의 원소를 더하는 모든 경우의 수 \n",
    "    for i in pws:\n",
    "        for j in pws:\n",
    "            #두개의 원소가 binary split인 경우만 추가\n",
    "            if sorted(list(i+j)) == sorted(list(df[attribute].unique())):\n",
    "                if set(i) not in result:\n",
    "                    result.append(set(i))\n",
    "                if set(i) not in result:\n",
    "                    result.append(set(j))\n",
    "    return result"
   ]
  },
  {
   "cell_type": "code",
   "execution_count": null,
   "metadata": {},
   "outputs": [],
   "source": [
    "get_binary_split(pd_data, \"age\")"
   ]
  },
  {
   "cell_type": "markdown",
   "metadata": {},
   "source": [
    "\n",
    "<h1 id=\"3.-다음은-모든-이진분류의-경우의-Gini-index를-구하는-함수-만들기\">3. 다음은 모든 이진분류의 경우의 Gini index를 구하는 함수 만들기<a class=\"anchor-link\" href=\"#3.-다음은-모든-이진분류의-경우의-Gini-index를-구하는-함수-만들기\">¶</a></h1><ul>\n",
    "<li>위에서 완성한 함수를 사용하여 만들어주세요!</li>\n",
    "<li>DataFrame의 index를 사용하여 만들면 굉장히 편합니다..! 예시를 아래에서 보여드릴게요.</li>\n",
    "<li>결과는 아래 아래 아래 줄과 같아야 합니다.</li>\n",
    "</ul>\n"
   ]
  },
  {
   "cell_type": "code",
   "execution_count": null,
   "metadata": {},
   "outputs": [],
   "source": [
    "A = set([1,2,3])\n",
    "B = set([3,4,5])\n",
    "A.union(B) #A와 B의 합집합\n",
    "pd_data.loc[A.union(B)]"
   ]
  },
  {
   "cell_type": "code",
   "execution_count": null,
   "metadata": {},
   "outputs": [],
   "source": [
    "def get_attribute_gini_index(df, attribute, label):\n",
    "    \n",
    "    #모든 이진분류\n",
    "    all_bs = get_binary_split(df, attribute)\n",
    "    #print(all_bs)\n",
    "    \n",
    "    #binary split들을 리스트로 바꿔줌\n",
    "    bs_list = []\n",
    "    for i in all_bs:\n",
    "        bs_list.append(list(i))\n",
    "    \n",
    "    #binary split의 인덱스 구하기 \n",
    "    idx = []\n",
    "    for name in bs_list:\n",
    "        #인덱스 받기\n",
    "        set_idx = set()\n",
    "        for j in name:\n",
    "            set_idx = set_idx.union(set(df.index[df[attribute] == j]))\n",
    "        idx.append(set_idx)\n",
    "    \n",
    "    #bianry split의 인덱스로 gini index 구하기\n",
    "    gini = []\n",
    "    for i in idx:\n",
    "        #해당 binary split의 비율\n",
    "        prob = len(df.loc[i]) / len(df)\n",
    "        #binary split에서 해당 집합의 gini (Gini(D1))\n",
    "        small_gini1 = get_gini(df.loc[i], label)\n",
    "        #print(small_gini1)\n",
    "        #binary split 다른 집합 인덱스\n",
    "        #all_idx = set(range(len(df)))\n",
    "        all_idx = set(df.index)\n",
    "        another_idx = all_idx - i\n",
    "        #binary split의 다른 gini(Gini(D2))\n",
    "        small_gini2 = get_gini(df.loc[another_idx], label)\n",
    "        #최종 gini\n",
    "        gini.append(prob * small_gini1 + (1-prob) * small_gini2)\n",
    "    \n",
    "    #binary split 리스트를 문자열로 바꾸기\n",
    "    str_list = []\n",
    "    for i in bs_list:\n",
    "        string = \"\"\n",
    "        for n,j in enumerate(i):\n",
    "            if n >0 :\n",
    "                string = string + \"_\"\n",
    "            string = string + str(j)\n",
    "        str_list.append(string)\n",
    "    \n",
    "    #결과\n",
    "    result = {}\n",
    "    for i, j in zip(str_list, gini):\n",
    "        result.update({i:j})\n",
    "    return result"
   ]
  },
  {
   "cell_type": "code",
   "execution_count": null,
   "metadata": {},
   "outputs": [],
   "source": [
    "get_attribute_gini_index(pd_data, \"age\", \"class_buys_computer\")"
   ]
  },
  {
   "cell_type": "markdown",
   "metadata": {},
   "source": [
    "\n",
    "<ul>\n",
    "<li>여기서 가장 작은값으로 분류를 해야겠죠?</li>\n",
    "</ul>\n"
   ]
  },
  {
   "cell_type": "code",
   "execution_count": null,
   "metadata": {},
   "outputs": [],
   "source": [
    "min(get_attribute_gini_index(pd_data, \"age\", \"class_buys_computer\").values())"
   ]
  },
  {
   "cell_type": "markdown",
   "metadata": {},
   "source": [
    "\n",
    "<h1 id=\"다음의-문제를-위에서-작성한-함수를-통해-구한-값으로-보여주세요!\">다음의 문제를 위에서 작성한 함수를 통해 구한 값으로 보여주세요!<a class=\"anchor-link\" href=\"#다음의-문제를-위에서-작성한-함수를-통해-구한-값으로-보여주세요!\">¶</a></h1><h2 id='문제1)-income의-이진분류를-얻는-함수-get_binary_split(pd_data,-\"income\")을-통해-보여주세요.'>문제1) income의 이진분류를 얻는 함수 get_binary_split(pd_data, \"income\")을 통해 보여주세요.<a class=\"anchor-link\" href='#문제1)-income의-이진분류를-얻는-함수-get_binary_split(pd_data,-\"income\")을-통해-보여주세요.'>¶</a></h2><h2 id=\"문제2)-가장-Gini계수가-높은-Feature-즉-분류를-하는데-가장-중요한-변수를-선정하시고-get_attribute_gini_index함수를-통해-Gini-index를-제시해주세요.\">문제2) 가장 Gini계수가 높은 Feature 즉 분류를 하는데 가장 중요한 변수를 선정하시고 get_attribute_gini_index함수를 통해 Gini index를 제시해주세요.<a class=\"anchor-link\" href=\"#문제2)-가장-Gini계수가-높은-Feature-즉-분류를-하는데-가장-중요한-변수를-선정하시고-get_attribute_gini_index함수를-통해-Gini-index를-제시해주세요.\">¶</a></h2><h2 id=\"문제3)-2에서-구한-Feature로-DataFrame을-분류-해주시고-나눠진-2개의-클래스에서-각각-다음으로-중요한-Feature를-선정해주시고-Gini-index를-제시해주세요.\">문제3) 2에서 구한 Feature로 DataFrame을 분류 해주시고 나눠진 2개의 클래스에서 각각 다음으로 중요한 Feature를 선정해주시고 Gini index를 제시해주세요.<a class=\"anchor-link\" href=\"#문제3)-2에서-구한-Feature로-DataFrame을-분류-해주시고-나눠진-2개의-클래스에서-각각-다음으로-중요한-Feature를-선정해주시고-Gini-index를-제시해주세요.\">¶</a></h2>\n"
   ]
  },
  {
   "cell_type": "code",
   "execution_count": null,
   "metadata": {},
   "outputs": [],
   "source": [
    "#문제1 : income의 이진분류\n",
    "get_binary_split(pd_data,\"income\")"
   ]
  },
  {
   "cell_type": "code",
   "execution_count": null,
   "metadata": {},
   "outputs": [],
   "source": [
    "#문제2 : Gini 계수가 가장 낮은 feature\n",
    "#feature 칼럼\n",
    "feature_list = list(pd_data.columns)\n",
    "feature_list.remove('class_buys_computer')\n",
    "\n",
    "#feature별 Gini index\n",
    "for i in feature_list:\n",
    "    print(min(get_attribute_gini_index(pd_data, i, 'class_buys_computer').items()))\n",
    "\n",
    "#따라서 Gini index가 가장 낮은 age가 분류시 가장 중요하다.\n",
    "#또한 age를 {middle_aged} vs {youth, senior}로 나누었을때가 Gini index가 가장 작고, 그 값은 0.35714285714285715이다"
   ]
  },
  {
   "cell_type": "code",
   "execution_count": null,
   "metadata": {},
   "outputs": [],
   "source": [
    "#문제3-1 : 위에서 구한 feature로 데이터프레임 나누고, 나눠진 두 데이터프레임에서 중요한 feature와 gini index구하기\n",
    "\n",
    "#데이터 프레임 나누기\n",
    "sub_data1 = pd_data.loc[pd_data[\"age\"] == \"middle_aged\"]\n",
    "print(sub_data1)\n",
    "\n",
    "#feature 칼럼\n",
    "sub_feature_list1 = list(sub_data1.columns)\n",
    "sub_feature_list1.remove('class_buys_computer')\n",
    "sub_feature_list1.remove('age')\n",
    "\n",
    "#feature별 Gini index\n",
    "for i in sub_feature_list1:\n",
    "    print(min(get_attribute_gini_index(sub_data1, i, 'class_buys_computer').items()))\n",
    "\n",
    "#label값이 동일하기 때문에 모든 피쳐의 Gini index가 0이 된다."
   ]
  },
  {
   "cell_type": "code",
   "execution_count": null,
   "metadata": {},
   "outputs": [],
   "source": [
    "#문제3-2 : 위에서 구한 feature로 데이터프레임 나누고, 나눠진 두 데이터프레임에서 중요한 feature와 gini index구하기\n",
    "\n",
    "#데이터 프레임 나누기\n",
    "sub_data2 = pd_data.loc[pd_data[\"age\"] != \"middle_aged\"]\n",
    "print(sub_data2)\n",
    "\n",
    "#feature 칼럼\n",
    "sub_feature_list2 = list(sub_data2.columns)\n",
    "sub_feature_list2.remove('class_buys_computer')\n",
    "\n",
    "#feature별 Gini index\n",
    "for i in sub_feature_list2:\n",
    "    print(min(get_attribute_gini_index(sub_data2, i, 'class_buys_computer').items()))\n",
    "    \n",
    "#student로 나누었을때 Gini index가 0.31999999999999984로 가장 낮기때문에, 이 다음 이진분류에서는 student로 나누는 것이 적절하다.\n",
    "#그때의 Gini index는 0.31999999999999984"
   ]
  },
  {
   "cell_type": "code",
   "execution_count": null,
   "metadata": {},
   "outputs": [],
   "source": [
    "# 문제) pruning을 통해 성능을 높여보세요. 그리고 위의 default DT성능과 비교하여 Accuracy가 얼마나 개선되었는지 구해보세요.\n",
    "#grid search\n",
    "from sklearn.model_selection import GridSearchCV\n",
    "clf = DecisionTreeClassifier(random_state=201)\n",
    "depths = np.arange(1, 21)\n",
    "min_leafs =  np.arange(1, 11) #[1, 5, 10, 20, 50, 100]\n",
    "min_splits =  np.arange(2, 21) #[2, 4, 6, 8, 10, 12, 14, 16]\n",
    "param_grid = {'criterion' : [\"gini\", \"entropy\"], 'max_depth' : depths, \n",
    "              'min_samples_leaf' : min_leafs, 'min_samples_split' : min_splits}\n",
    "gs = GridSearchCV(estimator=clf, param_grid=param_grid, cv=5)\n",
    "#모델 fit\n",
    "gs.fit(X_tr, y_tr)"
   ]
  },
  {
   "cell_type": "code",
   "execution_count": null,
   "metadata": {},
   "outputs": [],
   "source": [
    "#가장 좋은 파라미터\n",
    "print(gs.best_score_)\n",
    "print(gs.best_params_)\n",
    "#최적의 파라미터 모형을 train data set에 fit\n",
    "best_clf = gs.best_estimator_\n",
    "best_clf.fit(X_tr, y_tr)\n",
    "#최적의 파라미터 모델\n",
    "best_prediction = best_clf.predict(X_vld)\n",
    "#최적 파라미터 모델 정확도\n",
    "print(\"Accuracy is \", accuracy_score(best_prediction, y_vld))\n",
    "print(classification_report(best_prediction, y_vld))\n",
    "confusion_matrix(best_prediction, y_vld)\n",
    "#정확도 향상도\n",
    "print(\"Accuracy improvement is \",\n",
    "    accuracy_score(best_prediction, y_vld) - accuracy_score(clf_prediction, y_vld)\n",
    ")"
   ]
  }
 ],
 "metadata": {
  "kernelspec": {
   "display_name": "Python 3",
   "language": "python",
   "name": "python3"
  },
  "language_info": {
   "codemirror_mode": {
    "name": "ipython",
    "version": 3
   },
   "file_extension": ".py",
   "mimetype": "text/x-python",
   "name": "python",
   "nbconvert_exporter": "python",
   "pygments_lexer": "ipython3",
   "version": "3.7.6"
  }
 },
 "nbformat": 4,
 "nbformat_minor": 1
}

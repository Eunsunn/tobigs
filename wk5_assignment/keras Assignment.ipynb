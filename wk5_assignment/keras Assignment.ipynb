{
  "nbformat": 4,
  "nbformat_minor": 0,
  "metadata": {
    "colab": {
      "name": "Assignment2.ipynb",
      "version": "0.3.2",
      "provenance": [],
      "collapsed_sections": []
    },
    "kernelspec": {
      "name": "python3",
      "display_name": "Python 3"
    },
    "accelerator": "GPU"
  },
  "cells": [
    {
      "metadata": {
        "colab_type": "text",
        "id": "3MTnfdDq6mkP"
      },
      "cell_type": "markdown",
      "source": [
        "# 1. 데이터로드 및 전처리"
      ]
    },
    {
      "metadata": {
        "colab_type": "code",
        "id": "ri-SySn76mkQ",
        "outputId": "bb4a059c-8814-4358-b81d-b00b12a40d1d",
        "colab": {
          "base_uri": "https://localhost:8080/",
          "height": 70
        }
      },
      "cell_type": "code",
      "source": [
        "import os\n",
        "import numpy as np\n",
        "import keras\n",
        "\n",
        "from keras.datasets import cifar10\n",
        "from keras.utils.np_utils import to_categorical   \n",
        "\n",
        "(X_train, y_train), (X_test, y_test) = cifar10.load_data()"
      ],
      "execution_count": 0,
      "outputs": [
        {
          "output_type": "stream",
          "text": [
            "Using TensorFlow backend.\n"
          ],
          "name": "stderr"
        },
        {
          "output_type": "stream",
          "text": [
            "Downloading data from https://www.cs.toronto.edu/~kriz/cifar-10-python.tar.gz\n",
            "170500096/170498071 [==============================] - 19s 0us/step\n"
          ],
          "name": "stdout"
        }
      ]
    },
    {
      "metadata": {
        "colab_type": "code",
        "id": "9MpsRecCbAKH",
        "outputId": "452355e0-dfe3-47fc-cba7-0a7c94be6f4d",
        "colab": {
          "base_uri": "https://localhost:8080/",
          "height": 122
        }
      },
      "cell_type": "code",
      "source": [
        "#데이터셋 확인하기\n",
        "print(\"Shape of training data:\")\n",
        "print(X_train.shape)\n",
        "print(y_train.shape)\n",
        "print(\"Shape of test data:\")\n",
        "print(X_test.shape)\n",
        "print(y_test.shape)"
      ],
      "execution_count": 0,
      "outputs": [
        {
          "output_type": "stream",
          "text": [
            "Shape of training data:\n",
            "(50000, 32, 32, 3)\n",
            "(50000, 1)\n",
            "Shape of test data:\n",
            "(10000, 32, 32, 3)\n",
            "(10000, 1)\n"
          ],
          "name": "stdout"
        }
      ]
    },
    {
      "metadata": {
        "colab_type": "code",
        "id": "fyIPbSpq7KRZ",
        "colab": {}
      },
      "cell_type": "code",
      "source": [
        "#one-hot encoding : 클래스 개수가 10개니까 10개로 인코딩\n",
        "y_train = to_categorical(y_train, num_classes=10)\n",
        "y_test = to_categorical(y_test, num_classes=10)\n",
        "\n",
        "X_train = X_train.astype('float32')\n",
        "X_test = X_test.astype('float32')\n",
        "\n",
        "X_train /= 255\n",
        "X_test /= 255"
      ],
      "execution_count": 0,
      "outputs": []
    },
    {
      "metadata": {
        "colab_type": "code",
        "id": "tV_Yr-hubCvV",
        "outputId": "96faca35-0000-465e-aa1b-c2243efc8e95",
        "colab": {
          "base_uri": "https://localhost:8080/",
          "height": 158
        }
      },
      "cell_type": "code",
      "source": [
        "#one-hot encoding 결과\n",
        "print(y_test.shape)\n",
        "print(y_test)"
      ],
      "execution_count": 0,
      "outputs": [
        {
          "output_type": "stream",
          "text": [
            "(10000, 10)\n",
            "[[0. 0. 0. ... 0. 0. 0.]\n",
            " [0. 0. 0. ... 0. 1. 0.]\n",
            " [0. 0. 0. ... 0. 1. 0.]\n",
            " ...\n",
            " [0. 0. 0. ... 0. 0. 0.]\n",
            " [0. 1. 0. ... 0. 0. 0.]\n",
            " [0. 0. 0. ... 1. 0. 0.]]\n"
          ],
          "name": "stdout"
        }
      ]
    },
    {
      "metadata": {
        "colab_type": "code",
        "id": "8s1BckdhX-cd",
        "outputId": "a21e5818-f5f9-4b0f-aa40-f0d7a028ecc3",
        "colab": {
          "base_uri": "https://localhost:8080/",
          "height": 122
        }
      },
      "cell_type": "code",
      "source": [
        "#데이터셋 확인하기\n",
        "print(\"Shape of training data:\")\n",
        "print(X_train.shape)\n",
        "print(y_train.shape)\n",
        "print(\"Shape of test data:\")\n",
        "print(X_test.shape)\n",
        "print(y_test.shape)"
      ],
      "execution_count": 0,
      "outputs": [
        {
          "output_type": "stream",
          "text": [
            "Shape of training data:\n",
            "(50000, 32, 32, 3)\n",
            "(50000, 10)\n",
            "Shape of test data:\n",
            "(10000, 32, 32, 3)\n",
            "(10000, 10)\n"
          ],
          "name": "stdout"
        }
      ]
    },
    {
      "metadata": {
        "colab_type": "text",
        "id": "2V_8O4ss6mkb"
      },
      "cell_type": "markdown",
      "source": [
        "# 2. Modeling"
      ]
    },
    {
      "metadata": {
        "colab_type": "code",
        "id": "9-wCkbKp6mkc",
        "colab": {}
      },
      "cell_type": "code",
      "source": [
        "from keras.layers import Dense, Flatten, Activation\n",
        "from keras.layers import Conv2D, MaxPooling2D, Dropout\n",
        "from keras.models import Sequential\n",
        "from keras.optimizers import SGD"
      ],
      "execution_count": 0,
      "outputs": []
    },
    {
      "metadata": {
        "id": "l5QNaA1IwN0o",
        "colab_type": "code",
        "colab": {}
      },
      "cell_type": "code",
      "source": [
        "#Model\n",
        "\n",
        "model = Sequential()\n",
        "\n",
        "#Conv2D(filters, kernel_size)\n",
        "#filters : output 차원(합성곱 차원)\n",
        "#kernel_size : 이미지의 특징을 찾아내기위한 파라미터. 합성곱(convolution)을 kernel_size에 대응시킴\n",
        "#pooling : 합성곱을 거쳐서 activation map을 얻었을때, 크기를 조정하여 새로운 층을 얻는것\n",
        "#          각 픽셀에서 하나의값을 뽑아내는 과정\n",
        "#maxpooling : 각 픽셀에서 가장 큰 값을 뽑아내서 크기를 줄이는 방법\n",
        "#             pooling_size=(2,2)는 전체 크기를 절반으로 줄인다는 의미\n",
        "#Dropout : 특정노드에 학습이 지나치게 몰리는것을 막기위해 랜덤하게 노드를 꺼냄 -> 과적합 해결\n",
        "#Dense : hidden layer를 만들어줌. (hidden layer의 노드수를 입력값으로 받음)\n",
        "#        첫번째층에서 256개의 히든노드를 만들고, 두번째 층에서는 softmax를 통해 라벨 개수(10개)만큼 생성\n",
        "\n",
        "\n",
        "#첫번째 층 - 첫번째에만 input shape를 지정\n",
        "model.add(Conv2D(32, (3, 3), activation='relu', input_shape=(32, 32, 3)))\n",
        "#두번째 층\n",
        "model.add(Conv2D(32, (3, 3), activation='relu'))\n",
        "model.add(MaxPooling2D(pool_size=(2, 2)))\n",
        "model.add(Dropout(0.25))\n",
        "\n",
        "model.add(Flatten())\n",
        "model.add(Dense(256, activation='relu'))\n",
        "model.add(Dropout(0.25))\n",
        "model.add(Dense(10, activation='softmax'))\n",
        "\n",
        "#lr = learning rate\n",
        "sgd = SGD(lr=0.01, decay=1e-6, momentum=0.9, nesterov=True)\n",
        "model.compile(loss='categorical_crossentropy', metrics=['accuracy'], optimizer=sgd)"
      ],
      "execution_count": 0,
      "outputs": []
    },
    {
      "metadata": {
        "colab_type": "code",
        "id": "x8We7VWS6mkf",
        "outputId": "904c8697-051a-4625-96c8-88fed4803042",
        "colab": {
          "base_uri": "https://localhost:8080/",
          "height": 635
        }
      },
      "cell_type": "code",
      "source": [
        "history = model.fit(X_train, y_train, batch_size=32, epochs=15, verbose=2, validation_split=0.2)"
      ],
      "execution_count": 0,
      "outputs": [
        {
          "output_type": "stream",
          "text": [
            "WARNING:tensorflow:From /usr/local/lib/python3.6/dist-packages/tensorflow/python/ops/math_ops.py:3066: to_int32 (from tensorflow.python.ops.math_ops) is deprecated and will be removed in a future version.\n",
            "Instructions for updating:\n",
            "Use tf.cast instead.\n",
            "Train on 40000 samples, validate on 10000 samples\n",
            "Epoch 1/15\n",
            " - 16s - loss: 1.6616 - acc: 0.3972 - val_loss: 1.4027 - val_acc: 0.5010\n",
            "Epoch 2/15\n",
            " - 11s - loss: 1.3261 - acc: 0.5209 - val_loss: 1.2727 - val_acc: 0.5472\n",
            "Epoch 3/15\n",
            " - 11s - loss: 1.1452 - acc: 0.5933 - val_loss: 1.0508 - val_acc: 0.6346\n",
            "Epoch 4/15\n",
            " - 10s - loss: 1.0055 - acc: 0.6431 - val_loss: 1.0078 - val_acc: 0.6488\n",
            "Epoch 5/15\n",
            " - 10s - loss: 0.8838 - acc: 0.6889 - val_loss: 0.9655 - val_acc: 0.6708\n",
            "Epoch 6/15\n",
            " - 10s - loss: 0.7875 - acc: 0.7209 - val_loss: 0.9646 - val_acc: 0.6668\n",
            "Epoch 7/15\n",
            " - 10s - loss: 0.6940 - acc: 0.7529 - val_loss: 1.0063 - val_acc: 0.6637\n",
            "Epoch 8/15\n",
            " - 10s - loss: 0.6087 - acc: 0.7867 - val_loss: 0.9743 - val_acc: 0.6752\n",
            "Epoch 9/15\n",
            " - 10s - loss: 0.5415 - acc: 0.8116 - val_loss: 1.0385 - val_acc: 0.6638\n",
            "Epoch 10/15\n",
            " - 10s - loss: 0.4843 - acc: 0.8291 - val_loss: 1.0802 - val_acc: 0.6706\n",
            "Epoch 11/15\n",
            " - 10s - loss: 0.4413 - acc: 0.8463 - val_loss: 1.1142 - val_acc: 0.6673\n",
            "Epoch 12/15\n",
            " - 10s - loss: 0.4005 - acc: 0.8598 - val_loss: 1.1517 - val_acc: 0.6747\n",
            "Epoch 13/15\n",
            " - 10s - loss: 0.3641 - acc: 0.8726 - val_loss: 1.1721 - val_acc: 0.6701\n",
            "Epoch 14/15\n",
            " - 10s - loss: 0.3292 - acc: 0.8845 - val_loss: 1.2389 - val_acc: 0.6756\n",
            "Epoch 15/15\n",
            " - 10s - loss: 0.3194 - acc: 0.8909 - val_loss: 1.1854 - val_acc: 0.6754\n"
          ],
          "name": "stdout"
        }
      ]
    },
    {
      "metadata": {
        "id": "yojwPqFqrU1l",
        "colab_type": "code",
        "colab": {}
      },
      "cell_type": "code",
      "source": [
        "import matplotlib.pyplot as plt"
      ],
      "execution_count": 0,
      "outputs": []
    },
    {
      "metadata": {
        "id": "GPw6R73OrOR4",
        "colab_type": "code",
        "colab": {}
      },
      "cell_type": "code",
      "source": [
        "#Loss를 그리는 함수\n",
        "def plotLosses(history):  \n",
        "    plt.plot(history.history['loss'])\n",
        "    plt.plot(history.history['val_loss'])\n",
        "    plt.title('model loss')\n",
        "    plt.ylabel('loss')\n",
        "    plt.xlabel('epoch')\n",
        "    plt.legend(['train', 'validation'], loc='upper left')\n",
        "    plt.show()"
      ],
      "execution_count": 0,
      "outputs": []
    },
    {
      "metadata": {
        "colab_type": "code",
        "id": "fl3sNg0l6mkh",
        "outputId": "9d0e732a-346b-4dcb-da50-5f9c9a224c0b",
        "colab": {
          "base_uri": "https://localhost:8080/",
          "height": 376
        }
      },
      "cell_type": "code",
      "source": [
        "plotLosses(history)"
      ],
      "execution_count": 0,
      "outputs": [
        {
          "output_type": "display_data",
          "data": {
            "image/png": "[encoded data removed]",
            "text/plain": [
              "<Figure size 576x396 with 1 Axes>"
            ]
          },
          "metadata": {
            "tags": []
          }
        }
      ]
    },
    {
      "metadata": {
        "colab_type": "code",
        "id": "sgkDCi7U6mkk",
        "colab": {}
      },
      "cell_type": "code",
      "source": [
        "#test set으로 생성한 모델 평가\n",
        "score = model.evaluate(X_test, y_test, batch_size=128, verbose=0)"
      ],
      "execution_count": 0,
      "outputs": []
    },
    {
      "metadata": {
        "colab_type": "code",
        "id": "sb_uUAg66mkm",
        "outputId": "8ceddd1e-f5f8-438c-abc6-ccc73bc32a68",
        "colab": {
          "base_uri": "https://localhost:8080/",
          "height": 52
        }
      },
      "cell_type": "code",
      "source": [
        "print(model.metrics_names)\n",
        "print(score)"
      ],
      "execution_count": 0,
      "outputs": [
        {
          "output_type": "stream",
          "text": [
            "['loss', 'acc']\n",
            "[1.2001104747772218, 0.6681]\n"
          ],
          "name": "stdout"
        }
      ]
    }
  ]
}
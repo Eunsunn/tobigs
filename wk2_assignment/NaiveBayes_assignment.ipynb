{
 "cells": [
  {
   "cell_type": "code",
   "execution_count": 12,
   "metadata": {},
   "outputs": [
    {
     "name": "stdout",
     "output_type": "stream",
     "text": [
      "0.0\n",
      "0.0018031555221637867\n"
     ]
    }
   ],
   "source": [
    "#T={fast,furious,fun}을 주요 단어로 가질때, 이 문서의 분류?\n",
    "#코메디일 확률 : P(Comedy|T) = P(T|Comedy) * P(Comedy)\n",
    "#액션일 확률 : P(Action|T) = P(T|Action) * P(Action)) \n",
    "\n",
    "#전체 주요단어 개수(중복o)\n",
    "total_num = 4 + 3 + 5 + 4 + 4 #20\n",
    "\n",
    "#{fast,furious,fun}이 나오는 확률(사후확률)\n",
    "Prob_T = 9 / 20\n",
    "\n",
    "#Comedy, Action으로 분류되는 확률\n",
    "Prob_Comedy = 2 / 5\n",
    "Prob_Action = 3 / 5\n",
    "\n",
    "#Comedy중에 T를 가지는 확률(P(T|Comedy))\n",
    "fast_given_Comedy = 1 / 9\n",
    "furious_given_Comedy = 0 / 9 #확률이 0이여서 전체 확률이 0이되는 문제가 발생\n",
    "fun_given_Comedy = 3 / 9\n",
    "T_given_Comedy = fast_given_Comedy * furious_given_Comedy * fun_given_Comedy\n",
    "\n",
    "#주요단어가 T일때 Comedy로 분류될 확률\n",
    "Posterior_Comedy = (T_given_Comedy * Prob_Comedy) \n",
    "print(Posterior_Comedy)\n",
    "\n",
    "#Action중에 T를 가지는 확률(P(T|Action))\n",
    "fast_given_Action = 2 / 11\n",
    "furious_given_Action = 2 / 11\n",
    "fun_given_Action = 1 / 11\n",
    "T_given_Action = fast_given_Action * furious_given_Action * fun_given_Action\n",
    "\n",
    "#주요단어가 T일때 Action으로 분류될 확률\n",
    "Posterior_Action = (T_given_Action * Prob_Action) \n",
    "print(Posterior_Action)\n",
    "\n",
    "#따라서 {fast,furious,fun}만을 주요단어로 가질때, 이 문서는 0.004의 확률로 Action으로 분류된다\n",
    "#하지만 Comedy중에 furious라는 단어가 없어서 해당 확률이 0이고, \n",
    "#따라서 Comedy로 분류될 확률이 0이라는 문제가 생긴다. \n",
    "#이를 해결하기위해 분모와 분자에 적당한 수를 더해 확률이 0이되는 것을 막는 라플라스 스무딩을 해야한다.\n"
   ]
  }
 ],
 "metadata": {
  "kernelspec": {
   "display_name": "Python 3",
   "language": "python",
   "name": "python3"
  },
  "language_info": {
   "codemirror_mode": {
    "name": "ipython",
    "version": 3
   },
   "file_extension": ".py",
   "mimetype": "text/x-python",
   "name": "python",
   "nbconvert_exporter": "python",
   "pygments_lexer": "ipython3",
   "version": "3.7.1"
  }
 },
 "nbformat": 4,
 "nbformat_minor": 2
}

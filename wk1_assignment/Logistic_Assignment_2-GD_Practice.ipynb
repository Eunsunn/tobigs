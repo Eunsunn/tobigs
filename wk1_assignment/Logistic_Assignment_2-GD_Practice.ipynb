{
 "cells": [
  {
   "cell_type": "markdown",
   "metadata": {},
   "source": [
    "# Dataload and import library"
   ]
  },
  {
   "cell_type": "code",
   "execution_count": 1,
   "metadata": {},
   "outputs": [],
   "source": [
    "import numpy as np\n",
    "import matplotlib.pyplot as plt\n",
    "import pandas as pd\n",
    "import random\n"
   ]
  },
  {
   "cell_type": "code",
   "execution_count": 2,
   "metadata": {},
   "outputs": [
    {
     "data": {
      "text/html": [
       "<div>\n",
       "<style scoped>\n",
       "    .dataframe tbody tr th:only-of-type {\n",
       "        vertical-align: middle;\n",
       "    }\n",
       "\n",
       "    .dataframe tbody tr th {\n",
       "        vertical-align: top;\n",
       "    }\n",
       "\n",
       "    .dataframe thead th {\n",
       "        text-align: right;\n",
       "    }\n",
       "</style>\n",
       "<table border=\"1\" class=\"dataframe\">\n",
       "  <thead>\n",
       "    <tr style=\"text-align: right;\">\n",
       "      <th></th>\n",
       "      <th>Label</th>\n",
       "      <th>bias</th>\n",
       "      <th>experience</th>\n",
       "      <th>salary</th>\n",
       "    </tr>\n",
       "  </thead>\n",
       "  <tbody>\n",
       "    <tr>\n",
       "      <th>0</th>\n",
       "      <td>1</td>\n",
       "      <td>1</td>\n",
       "      <td>0.7</td>\n",
       "      <td>48000</td>\n",
       "    </tr>\n",
       "    <tr>\n",
       "      <th>1</th>\n",
       "      <td>0</td>\n",
       "      <td>1</td>\n",
       "      <td>1.9</td>\n",
       "      <td>48000</td>\n",
       "    </tr>\n",
       "    <tr>\n",
       "      <th>2</th>\n",
       "      <td>1</td>\n",
       "      <td>1</td>\n",
       "      <td>2.5</td>\n",
       "      <td>60000</td>\n",
       "    </tr>\n",
       "    <tr>\n",
       "      <th>3</th>\n",
       "      <td>0</td>\n",
       "      <td>1</td>\n",
       "      <td>4.2</td>\n",
       "      <td>63000</td>\n",
       "    </tr>\n",
       "    <tr>\n",
       "      <th>4</th>\n",
       "      <td>0</td>\n",
       "      <td>1</td>\n",
       "      <td>6.0</td>\n",
       "      <td>76000</td>\n",
       "    </tr>\n",
       "  </tbody>\n",
       "</table>\n",
       "</div>"
      ],
      "text/plain": [
       "   Label  bias  experience  salary\n",
       "0      1     1         0.7   48000\n",
       "1      0     1         1.9   48000\n",
       "2      1     1         2.5   60000\n",
       "3      0     1         4.2   63000\n",
       "4      0     1         6.0   76000"
      ]
     },
     "execution_count": 2,
     "metadata": {},
     "output_type": "execute_result"
    }
   ],
   "source": [
    "## 본인의 디렉토리에 맞게 설정하세요 \n",
    "data = pd.read_csv('C:/Users/dmstj/assignment_2.csv')\n",
    "data.head()"
   ]
  },
  {
   "cell_type": "code",
   "execution_count": 3,
   "metadata": {},
   "outputs": [],
   "source": [
    "data['salary']=data['salary'].apply(lambda x : x/10000)"
   ]
  },
  {
   "cell_type": "markdown",
   "metadata": {},
   "source": [
    "# Logistic regression 해야하는 data 의 scatter plot"
   ]
  },
  {
   "cell_type": "code",
   "execution_count": 4,
   "metadata": {},
   "outputs": [],
   "source": [
    "# filter out the applicants that got admitted\n",
    "MALE = data[data['Label']==1]\n",
    "FEMALE = data[data['Label'] == 0]\n"
   ]
  },
  {
   "cell_type": "code",
   "execution_count": 5,
   "metadata": {},
   "outputs": [
    {
     "name": "stderr",
     "output_type": "stream",
     "text": [
      "C:\\Users\\dmstj\\Anaconda3\\lib\\site-packages\\matplotlib\\cbook\\deprecation.py:107: MatplotlibDeprecationWarning: Adding an axes using the same arguments as a previous axes currently reuses the earlier instance.  In a future version, a new instance will always be created and returned.  Meanwhile, this warning can be suppressed, and the future behavior ensured, by passing a unique label to each axes instance.\n",
      "  warnings.warn(message, mplDeprecation, stacklevel=1)\n"
     ]
    },
    {
     "data": {
      "image/png": "[encoded data removed]",
      "text/plain": [
       "<Figure size 432x288 with 1 Axes>"
      ]
     },
     "metadata": {},
     "output_type": "display_data"
    }
   ],
   "source": [
    "# plots\n",
    "fig = plt.figure()\n",
    "plt.scatter(MALE.iloc[:, 2], MALE.iloc[:, 3], s=10, label='Male')\n",
    "plt.scatter(FEMALE.iloc[:, 2], FEMALE.iloc[:, 3], s=10, label='Female')\n",
    "ax = fig.add_subplot(1,1,1)\n",
    "ax.set_xlabel('Experience')\n",
    "ax.set_ylabel('Salary')\n",
    "plt.legend()\n",
    "plt.show()"
   ]
  },
  {
   "cell_type": "code",
   "execution_count": 6,
   "metadata": {},
   "outputs": [
    {
     "name": "stdout",
     "output_type": "stream",
     "text": [
      "[-0.90588092  0.19385427  1.24759064]\n"
     ]
    }
   ],
   "source": [
    "## 독립변수들\n",
    "X = data.iloc[:, 1:]\n",
    "\n",
    "# rescaled_X \n",
    "normalized_X = (X[['experience','salary']]-X[['experience','salary']].mean())/X[['experience','salary']].std()\n",
    "normalized_X['bias'] = X['bias']\n",
    "cols = normalized_X.columns.tolist()\n",
    "cols = cols[-1:] + cols[:-1]\n",
    "normalized_X = normalized_X[cols]\n",
    "normalized_X = normalized_X.values.tolist()\n",
    "X= np.array(normalized_X)\n",
    "\n",
    "\n",
    "#Basic_X\n",
    "# X = X.values.tolist()\n",
    "# X = np.array(X)\n",
    "#X\n",
    "\n",
    "# 종속변수 Target = T \n",
    "T = data['Label']\n",
    "T = T.values.tolist()\n",
    "T = np.array(T)\n",
    "#T\n",
    "\n",
    "# 회귀계수\n",
    "beta = np.random.randn(3)\n",
    "#beta= np.array([1,1,1])\n",
    "#beta\n",
    "print(beta)"
   ]
  },
  {
   "cell_type": "markdown",
   "metadata": {},
   "source": [
    "## 회귀식\n",
    "## $$ a_n=B^TX = \\hat{B}_0 +\\hat{B}_1x_1 +\\hat{B}_2x_2 ,    \\quad\\mbox{n=데이터 수}$$\n",
    "\n",
    "\n"
   ]
  },
  {
   "cell_type": "code",
   "execution_count": 7,
   "metadata": {},
   "outputs": [],
   "source": [
    "# 내적 -> 회귀계수와 X의 선형결합 \n",
    "a = X.dot(beta)\n",
    "\n"
   ]
  },
  {
   "cell_type": "markdown",
   "metadata": {},
   "source": [
    "## $$ \\mbox 로그오즈 = 회귀식을\\  p에\\  대해서\\  정리 $$\n",
    "## $$ log(Odds) = \\hat{B}_0 +\\hat{B}_1x_1 + \\hat{B}_2x_2 $$\n",
    "## $$ \\mbox P는 \\ 로지스틱 \\ 함수 $$\n",
    "## $$ P = \\frac{\\mathrm{1} }{\\mathrm{1} + e^{-a_n}} = \\sigma(x,B) $$ "
   ]
  },
  {
   "cell_type": "code",
   "execution_count": 8,
   "metadata": {},
   "outputs": [],
   "source": [
    "'''\n",
    "함수를 구현하세요 \n",
    "INPUT: 회귀식(a)\n",
    "Output: P\n",
    "'''\n",
    "P = 1/ (1 + np.exp(-a))\n"
   ]
  },
  {
   "cell_type": "markdown",
   "metadata": {},
   "source": [
    "## $$ \\mbox 각\\  데이터가\\  따르는\\  확률분포를\\   label\\  y와\\  엮어서\\  표현  $$\n",
    "\n",
    "## $$ P(x_i,y_i | B) = \\begin{cases} \\sigma(x,B)^{y}, & \\mbox{if }y\\mbox{ = 1} \\\\ (1-\\sigma(x,B))^{1-y}, & \\mbox{if }y\\mbox{ = 0} \\end{cases} $$"
   ]
  },
  {
   "cell_type": "code",
   "execution_count": null,
   "metadata": {},
   "outputs": [],
   "source": []
  },
  {
   "cell_type": "markdown",
   "metadata": {},
   "source": [
    "## $$ \\mbox 위의 \\ 확률분포를 \\ 따르는 \\   데이터에서 \\ 얻은 \\ Likelihood  $$\n",
    "\n",
    "## $$ L = \\sigma(x,B)^{y}(1-\\sigma(x,B))^{1-y} $$ "
   ]
  },
  {
   "cell_type": "code",
   "execution_count": null,
   "metadata": {},
   "outputs": [],
   "source": []
  },
  {
   "cell_type": "markdown",
   "metadata": {},
   "source": [
    "## $$ \\mbox log 변환  $$\n",
    "\n",
    "## $$ L^*=log(L) = y\\sigma(x,B) + (1-y)(1-\\sigma(x,B)) $$ "
   ]
  },
  {
   "cell_type": "code",
   "execution_count": null,
   "metadata": {},
   "outputs": [],
   "source": []
  },
  {
   "cell_type": "markdown",
   "metadata": {},
   "source": [
    "## $$ \\mbox Convex\\  function으로\\  만들기\\  위한 \\ (-) 곱   $$\n",
    "\n",
    "## $$ \\mbox J는\\ Loss\\ Function  $$\n",
    "\n",
    "## $$ J= - L^* $$\n",
    "\n",
    "## $$ \\mbox Loss\\ function \\ = \\ Negative\\ log \\ likelihood\\  $$"
   ]
  },
  {
   "cell_type": "markdown",
   "metadata": {},
   "source": [
    "## $$ \\mbox N개의 \\ 데이터에\\ 대한\\ Negative\\ Likelihood  $$\n",
    "## $$ J(x_i,y_i|B) = -1/N(\\sum_{i=1}^N y_i\\sigma(x_i,B)+ \\sum_{i=1}^N(1-y_i)(1-\\sigma(x_i,B))) $$ \n"
   ]
  },
  {
   "cell_type": "code",
   "execution_count": 9,
   "metadata": {},
   "outputs": [
    {
     "data": {
      "text/plain": [
       "0.8481296647721286"
      ]
     },
     "execution_count": 9,
     "metadata": {},
     "output_type": "execute_result"
    }
   ],
   "source": [
    "'''\n",
    "Negative_Likelihood를 구현하세요\n",
    "INPUT: P, Y(LABEL)\n",
    "OUTPUT : 각 데이터들의 Negative_Likelihood 값의 합\n",
    "\n",
    "'''\n",
    "\n",
    "#loss function\n",
    "def Loss(X):\n",
    "    output = 0\n",
    "    for i in range(0,len(X)):\n",
    "        if X[i] == 1:\n",
    "             output = output - np.log(P[i])\n",
    "        elif X[i] == 0:\n",
    "             output = output - np.log(1-P[i])\n",
    "    return (output / len(X))\n",
    "\n",
    "Loss(T) #평균 Loss"
   ]
  },
  {
   "cell_type": "markdown",
   "metadata": {},
   "source": [
    "## Loss function 에 대한 Gradient를 구하기 위한 작업 "
   ]
  },
  {
   "cell_type": "markdown",
   "metadata": {},
   "source": [
    "## $$ \\mbox J를 \\ B에 \\ 대해서\\ 편미분  $$\n",
    "\n",
    "## $$ \\mbox J는 \\ P에 \\ 대한\\ 함수이고, \\ P는 \\ a에 \\ 대한 \\ 함수이고,\\ a는\\ B에 \\ 대한\\ 함수  $$\n",
    "\n",
    "## $${\\partial J\\over\\partial B} =  -\\sum_{i=1}^N {\\partial J\\over\\partial P_i} {\\partial P_i\\over\\partial a_i} {\\partial a_i\\over\\partial B} $$ "
   ]
  },
  {
   "cell_type": "markdown",
   "metadata": {},
   "source": [
    "## $${\\partial J\\over\\partial P_i} = \\frac{y_i}{P_i}- \\frac{1-y_i}{1-P_i} ,\\quad {\\partial P_i\\over\\partial a_i} = P_i(1-P_i), \\quad {\\partial a_i\\over\\partial B}=X^T $$ "
   ]
  },
  {
   "cell_type": "markdown",
   "metadata": {},
   "source": [
    "## $$ \\mbox 또한 \\ B는 \\ B_0,\\ B_1,\\ B_2이\\  있어서\\ 각각\\ 편미분    $$\n",
    "## $$ \\mbox 간단하게 \\  표현하면   $$"
   ]
  },
  {
   "cell_type": "markdown",
   "metadata": {},
   "source": [
    "## $${\\partial J\\over\\partial B} =  -\\sum_{i=1}^N {\\partial J\\over\\partial P_i} {\\partial P_i\\over\\partial a_i} {\\partial a_i\\over\\partial B} = - X^T(y-P) =  X^T(P-y)$$ "
   ]
  },
  {
   "cell_type": "code",
   "execution_count": 10,
   "metadata": {},
   "outputs": [
    {
     "name": "stdout",
     "output_type": "stream",
     "text": [
      "0.28739165033216735\n"
     ]
    }
   ],
   "source": [
    "'''\n",
    "위에서 구한 Negative Likelihood 함수를 각각 베타에 편미분하여 Gradient를 계산하고\n",
    "Learning_rate와 곱하여 회귀계수를 업데이트 해주세요.\n",
    "회귀계수가 업데이트 될 때 마다, P도 다시 업데이트 되야 합니다. \n",
    "'''\n",
    "\n",
    "#10만번? 1000번 돌려서 loss가 작아질 때 까지 돌리기\n",
    "#처음에 베타값을 랜덤생성해서 강의자료의 베타를 업데이트 하는 방법으로 베타를 업데이트함(loss가 작아질 때 까지)\n",
    "\n",
    "from random import *\n",
    "import random\n",
    "\n",
    "\n",
    "def Beta_hat(X):\n",
    "    #T,P다시 적음 <함수 안에서 전역변수를 수정할 수 없기때문에\n",
    "    #T\n",
    "    T = data['Label']\n",
    "    T = T.values.tolist()\n",
    "    T = np.array(T)\n",
    "    #P\n",
    "    P = 1/ (1 + np.exp(-a))\n",
    "    #베타 초기값을 난수로 생성\n",
    "    beta = np.random.randn(3)\n",
    "    #10만번 반복하면서 베타와 P 업데이트\n",
    "    for i in range(0,10**5): #10만으로 고치기\n",
    "        gradient = (np.transpose(X).dot(P-T)) / 200 \n",
    "        #베타 업데이트\n",
    "        beta = beta - 0.05 * gradient #learning rate = 0.05 \n",
    "        #P 업데이트\n",
    "        P = 1 / (1+np.exp(-X.dot(beta))) \n",
    "    #Loss찍기\n",
    "    output = 0\n",
    "    for i in range(0,len(T)):\n",
    "        if T[i] == 1:\n",
    "             output = output - np.log(P[i])\n",
    "        elif T[i] == 0:\n",
    "             output = output - np.log(1-P[i])\n",
    "    Loss = output / 200\n",
    "    print(Loss)\n",
    "    #베타 추정값 리턴\n",
    "    return(beta)\n",
    "\n",
    "beta = Beta_hat(X)"
   ]
  },
  {
   "cell_type": "code",
   "execution_count": 11,
   "metadata": {},
   "outputs": [
    {
     "name": "stderr",
     "output_type": "stream",
     "text": [
      "C:\\Users\\dmstj\\Anaconda3\\lib\\site-packages\\matplotlib\\cbook\\deprecation.py:107: MatplotlibDeprecationWarning: Adding an axes using the same arguments as a previous axes currently reuses the earlier instance.  In a future version, a new instance will always be created and returned.  Meanwhile, this warning can be suppressed, and the future behavior ensured, by passing a unique label to each axes instance.\n",
      "  warnings.warn(message, mplDeprecation, stacklevel=1)\n"
     ]
    },
    {
     "data": {
      "image/png": "[encoded data removed]",
      "text/plain": [
       "<Figure size 432x288 with 1 Axes>"
      ]
     },
     "metadata": {},
     "output_type": "display_data"
    }
   ],
   "source": [
    "'''추정된 회귀계수가 beta=[B0,B2,B3]이라면, 다음 코드를 통해 시각화가 가능합니다'''\n",
    "\n",
    "\n",
    "fig = plt.figure()\n",
    "plt.scatter(MALE.iloc[:, 2], MALE.iloc[:, 3], s=10, label='Male',alpha=0.5)\n",
    "plt.scatter(FEMALE.iloc[:, 2], FEMALE.iloc[:, 3], s=10, label='Female',alpha=0.5)\n",
    "#plt.scatter(X[:,1], X[:,2],c=T , s=10, alpha=0.8)\n",
    "x_axis = np.linspace(0, 10,50)\n",
    "y_axis = -(beta[0] + x_axis*beta[1]) / beta[2]\n",
    "\n",
    "ax = fig.add_subplot(1,1,1)\n",
    "ax.set_xlabel('Experience')\n",
    "ax.set_ylabel('Salary')\n",
    "plt.plot(x_axis, y_axis)\n",
    "plt.legend()\n",
    "plt.show()\n"
   ]
  },
  {
   "cell_type": "markdown",
   "metadata": {},
   "source": [
    "### 직접 구현을 한 rough한 GD이기 때문에 성능이 안좋을 수 있습니다\n",
    "### 초기값에 매우 민감하며, 기타 하이퍼 파라미터에 따라 성능이 달라집니다"
   ]
  },
  {
   "cell_type": "code",
   "execution_count": null,
   "metadata": {},
   "outputs": [],
   "source": []
  }
 ],
 "metadata": {
  "kernelspec": {
   "display_name": "Python 3",
   "language": "python",
   "name": "python3"
  },
  "language_info": {
   "codemirror_mode": {
    "name": "ipython",
    "version": 3
   },
   "file_extension": ".py",
   "mimetype": "text/x-python",
   "name": "python",
   "nbconvert_exporter": "python",
   "pygments_lexer": "ipython3",
   "version": "3.6.5"
  }
 },
 "nbformat": 4,
 "nbformat_minor": 2
}

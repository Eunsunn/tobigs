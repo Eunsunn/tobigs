{
 "cells": [
  {
   "cell_type": "markdown",
   "metadata": {},
   "source": [
    "\n",
    "<h1 id=\"AlexNet\">AlexNet<a class=\"anchor-link\" href=\"#AlexNet\">¶</a></h1><ul>\n",
    "<li><p><a href=\"http://www.cs.toronto.edu/~fritz/absps/imagenet.pdf\">paper</a></p>\n",
    "</li>\n",
    "<li><p><a href=\"http://image-net.org/challenges/LSVRC/2012/index#task\">imagenet data(2012)</a></p>\n",
    "</li>\n",
    "<li><p><a href=\"https://pytorch.org/docs/0.4.0/_modules/torchvision/models/alexnet.html\">code</a></p>\n",
    "</li>\n",
    "<li><p>Model architecture\n",
    "<img alt=\"model_architecture\" src=\"https://cv-tricks.com/wp-content/uploads/2017/03/xalexnet_small-1.png.pagespeed.ic.u_mv-jhXMI.webp\"/></p>\n",
    "</li>\n",
    "</ul>\n"
   ]
  },
  {
   "cell_type": "markdown",
   "metadata": {},
   "source": [
    "\n",
    "<h3 id=\"Naive-Version\">Naive Version<a class=\"anchor-link\" href=\"#Naive-Version\">¶</a></h3><p>CONV_1 - POOL_1 - CONV_2 - POOL_2 - CONV_3 - CONV_4 - CONV_5 - POOL_3 - FC1 - FC2 - FC3 (-&gt;SOFTMAX)</p>\n"
   ]
  },
  {
   "cell_type": "markdown",
   "metadata": {},
   "source": [
    "\n",
    "<h3 id=\"detailed\">detailed<a class=\"anchor-link\" href=\"#detailed\">¶</a></h3><p>CONV_1(ReLU) - POOL_1 - CONV_2(ReLU) - POOL_2 - CONV_3(ReLU) - CONV_4(ReLU) - CONV_5(ReLU) - POOL_3 -(Flatten) FC1(ReLU) - FC2(ReLU) - FC3(-&gt;SOFTMAX)</p>\n"
   ]
  },
  {
   "cell_type": "code",
   "execution_count": null,
   "metadata": {},
   "outputs": [],
   "source": [
    "# output = (input - filter) / stride + 1"
   ]
  },
  {
   "cell_type": "markdown",
   "metadata": {},
   "source": [
    "\n",
    "<h1 id=\"Q.1-fill-in-the-'????'-&amp;-'TODO'\">Q.1 fill in the '????' &amp; 'TODO'<a class=\"anchor-link\" href=\"#Q.1-fill-in-the-'????'-&amp;-'TODO'\">¶</a></h1>\n"
   ]
  },
  {
   "cell_type": "markdown",
   "metadata": {},
   "source": [
    "\n",
    "<h3 id=\"Layer-1-is-a-Convolution-Layer_1\">Layer 1 is a Convolution Layer_1<a class=\"anchor-link\" href=\"#Layer-1-is-a-Convolution-Layer_1\">¶</a></h3><ul>\n",
    "<li><p><strong>Input Image size</strong>     224 x 224 x 3 -&gt; 227 x 227 x 3</p>\n",
    "</li>\n",
    "<li><p><strong>Number of filters </strong> 96</p>\n",
    "</li>\n",
    "<li><p><strong>Filter size</strong> 11 x 11 x 3</p>\n",
    "</li>\n",
    "<li><p><strong>Stride</strong> 4</p>\n",
    "</li>\n",
    "<li><p><strong>Layer 1 Output</strong>  55 x 55 x 96 (because of stride 4)</p>\n",
    "</li>\n",
    "</ul>\n"
   ]
  },
  {
   "cell_type": "code",
   "execution_count": null,
   "metadata": {},
   "outputs": [],
   "source": [
    "(227-11)/4 + 1"
   ]
  },
  {
   "cell_type": "code",
   "execution_count": null,
   "metadata": {},
   "outputs": [],
   "source": [
    "## TODO ##\n",
    "\n",
    "######################################################\n",
    "#  Calculate the number of parameters in this layer  #\n",
    "######################################################\n",
    "\n",
    "\n",
    "Conv_1 = (11*11*3) * 96 + 96 \n",
    "\n",
    "'''last 96 for Bias'''"
   ]
  },
  {
   "cell_type": "markdown",
   "metadata": {},
   "source": [
    "\n",
    "<h3 id=\"Layer-2-is-a-Max-Pooling_1-Followed-by-Convolution_1\">Layer 2 is a Max Pooling_1 Followed by Convolution_1<a class=\"anchor-link\" href=\"#Layer-2-is-a-Max-Pooling_1-Followed-by-Convolution_1\">¶</a></h3><ul>\n",
    "<li><p><strong>Input</strong>  55 x 55 x 96</p>\n",
    "</li>\n",
    "<li><p><strong>Max pooling</strong></p>\n",
    "</li>\n",
    "<li><p><strong>Pooling size</strong>(overlapping) 3 x 3</p>\n",
    "</li>\n",
    "<li><p><strong>Stride</strong> 2</p>\n",
    "</li>\n",
    "<li><p><strong>Layer 2 Output</strong> 27 x 27 x 96</p>\n",
    "</li>\n",
    "</ul>\n"
   ]
  },
  {
   "cell_type": "code",
   "execution_count": null,
   "metadata": {},
   "outputs": [],
   "source": [
    "## TODO \n",
    "\n",
    "######################################################\n",
    "#  Calculate the number of parameters in this layer  #\n",
    "######################################################\n",
    "\n",
    "Max_pool_1 = 0 #pooling은 파라미터가 없다"
   ]
  },
  {
   "cell_type": "code",
   "execution_count": null,
   "metadata": {},
   "outputs": [],
   "source": [
    "# output = (input - filter) / stride + 1\n",
    "(55 - 3) / 2 + 1"
   ]
  },
  {
   "cell_type": "markdown",
   "metadata": {},
   "source": [
    "\n",
    "<h3 id=\"Layer-3-is-a-a-Convolution-Layer_2\">Layer 3 is a a Convolution Layer_2<a class=\"anchor-link\" href=\"#Layer-3-is-a-a-Convolution-Layer_2\">¶</a></h3><ul>\n",
    "<li><p><strong>Input</strong>  27 x 27 x 96</p>\n",
    "</li>\n",
    "<li><p><strong>Number of filters</strong>  256</p>\n",
    "</li>\n",
    "<li><p><strong>Filter size</strong>  5 x 5 x 96</p>\n",
    "</li>\n",
    "<li><p><strong>Stride</strong> 1</p>\n",
    "</li>\n",
    "<li><p><strong>padding</strong> 2</p>\n",
    "</li>\n",
    "<li><p><strong>Layer 3 Output</strong> 27 x 27 x 256</p>\n",
    "</li>\n",
    "</ul>\n"
   ]
  },
  {
   "cell_type": "code",
   "execution_count": null,
   "metadata": {},
   "outputs": [],
   "source": [
    "## TODO \n",
    "\n",
    "######################################################\n",
    "#  Calculate the number of parameters in this layer  #\n",
    "######################################################\n",
    "\n",
    "Conv_2 = (5*5*96) * 256 + 256"
   ]
  },
  {
   "cell_type": "code",
   "execution_count": null,
   "metadata": {},
   "outputs": [],
   "source": [
    "# output = (input - filter) / stride + 1\n",
    "\n",
    "(27 + 4 - 5) / 1 + 1 "
   ]
  },
  {
   "cell_type": "markdown",
   "metadata": {},
   "source": [
    "\n",
    "<h3 id=\"Layer-4-is-a-Max-Pooling_2-Followed-by-Convolution_2\">Layer 4 is a Max Pooling_2 Followed by Convolution_2<a class=\"anchor-link\" href=\"#Layer-4-is-a-Max-Pooling_2-Followed-by-Convolution_2\">¶</a></h3><ul>\n",
    "<li><p><strong>Input</strong>  27 x 27 x 256</p>\n",
    "</li>\n",
    "<li><p><strong>Max pooling</strong></p>\n",
    "</li>\n",
    "<li><p><strong>Pooling size</strong>(overlapping) 3 x 3</p>\n",
    "</li>\n",
    "<li><p><strong>Stride</strong> 2</p>\n",
    "</li>\n",
    "<li><p><strong>Layer 4 Output</strong> 13 <em> 13 </em> 256</p>\n",
    "</li>\n",
    "</ul>\n"
   ]
  },
  {
   "cell_type": "code",
   "execution_count": null,
   "metadata": {},
   "outputs": [],
   "source": [
    "## TODO \n",
    "\n",
    "######################################################\n",
    "#  Calculate the number of parameters in this layer  #\n",
    "######################################################\n",
    "\n",
    "Max_pool_2 = 0 #pooling은 파라미터가 없다"
   ]
  },
  {
   "cell_type": "code",
   "execution_count": null,
   "metadata": {},
   "outputs": [],
   "source": [
    "# output = (input - filter) / stride + 1\n",
    "(27 - 3) / 2 + 1"
   ]
  },
  {
   "cell_type": "markdown",
   "metadata": {},
   "source": [
    "\n",
    "<h3 id=\"Layer-5-is-a-a-Convolution-Layer_3\">Layer 5 is a a Convolution Layer_3<a class=\"anchor-link\" href=\"#Layer-5-is-a-a-Convolution-Layer_3\">¶</a></h3><ul>\n",
    "<li><p><strong>Input</strong>  13 x 13 x 256</p>\n",
    "</li>\n",
    "<li><p><strong>Number of filters</strong>  384</p>\n",
    "</li>\n",
    "<li><p><strong>Filter size</strong>  3 x 3 x 256</p>\n",
    "</li>\n",
    "<li><p><strong>Stride</strong> 1</p>\n",
    "</li>\n",
    "<li><p><strong>padding</strong> 1</p>\n",
    "</li>\n",
    "<li><p><strong>Layer 5 Output</strong> 13 x 13 x 384</p>\n",
    "</li>\n",
    "</ul>\n"
   ]
  },
  {
   "cell_type": "code",
   "execution_count": null,
   "metadata": {},
   "outputs": [],
   "source": [
    "## TODO \n",
    "\n",
    "######################################################\n",
    "#  Calculate the number of parameters in this layer  #\n",
    "######################################################\n",
    "\n",
    "Conv_3 = (3*3*256) * 384 + 384 #가중치 + 편향"
   ]
  },
  {
   "cell_type": "code",
   "execution_count": null,
   "metadata": {},
   "outputs": [],
   "source": [
    "# output = (input - filter) / stride + 1\n",
    "(13 + 2 - 3) / 1 + 1"
   ]
  },
  {
   "cell_type": "markdown",
   "metadata": {},
   "source": [
    "\n",
    "<h3 id=\"Layer-6-is--a-Convolution-Layer_4\">Layer 6 is  a Convolution Layer_4<a class=\"anchor-link\" href=\"#Layer-6-is--a-Convolution-Layer_4\">¶</a></h3><ul>\n",
    "<li><p><strong>Input</strong>  13 x 13 x 384</p>\n",
    "</li>\n",
    "<li><p><strong>Number of filters</strong>  384</p>\n",
    "</li>\n",
    "<li><p><strong>Filter size</strong>  3 x 3 x 384</p>\n",
    "</li>\n",
    "<li><p><strong>Stride</strong> 1</p>\n",
    "</li>\n",
    "<li><p><strong>padding</strong> 1</p>\n",
    "</li>\n",
    "<li><p><strong>Layer 6 Output</strong> 13 x 13 x 384</p>\n",
    "</li>\n",
    "</ul>\n"
   ]
  },
  {
   "cell_type": "code",
   "execution_count": null,
   "metadata": {},
   "outputs": [],
   "source": [
    "## TODO \n",
    "\n",
    "######################################################\n",
    "#  Calculate the number of parameters in this layer  #\n",
    "######################################################\n",
    "Conv_4 = (3*3*384) * 384 + 384 #가중치 + 편향"
   ]
  },
  {
   "cell_type": "code",
   "execution_count": null,
   "metadata": {},
   "outputs": [],
   "source": [
    "# output = (input - filter) / stride + 1\n",
    "(13 + 2 - 3) / 1 + 1"
   ]
  },
  {
   "cell_type": "markdown",
   "metadata": {},
   "source": [
    "\n",
    "<h3 id=\"Layer-7-is-a-Convolution-Layer_5\">Layer 7 is a Convolution Layer_5<a class=\"anchor-link\" href=\"#Layer-7-is-a-Convolution-Layer_5\">¶</a></h3><ul>\n",
    "<li><p><strong>Input</strong>  13 x 13 x384</p>\n",
    "</li>\n",
    "<li><p><strong>Number of filters</strong>  256</p>\n",
    "</li>\n",
    "<li><p><strong>Filter size</strong>  3 x 3 x 384</p>\n",
    "</li>\n",
    "<li><p><strong>Stride</strong> 1</p>\n",
    "</li>\n",
    "<li><p><strong>padding</strong> 1</p>\n",
    "</li>\n",
    "<li><p><strong>Layer 7 Output</strong> 13 x 13 x 256</p>\n",
    "</li>\n",
    "</ul>\n"
   ]
  },
  {
   "cell_type": "code",
   "execution_count": null,
   "metadata": {},
   "outputs": [],
   "source": [
    "## TODO \n",
    "\n",
    "######################################################\n",
    "#  Calculate the number of parameters in this layer  #\n",
    "######################################################\n",
    "Conv_5 = (3*3*384) * 256 + 256"
   ]
  },
  {
   "cell_type": "code",
   "execution_count": null,
   "metadata": {},
   "outputs": [],
   "source": [
    "# output = (input - filter) / stride + 1\n",
    "(13 + 2 -3)/1 + 1"
   ]
  },
  {
   "cell_type": "markdown",
   "metadata": {},
   "source": [
    "\n",
    "<h3 id=\"Layer-8-is-a-Max-Pooling_3-Followed-by-Convolution_5\">Layer 8 is a Max Pooling_3 Followed by Convolution_5<a class=\"anchor-link\" href=\"#Layer-8-is-a-Max-Pooling_3-Followed-by-Convolution_5\">¶</a></h3><ul>\n",
    "<li><p><strong>Input</strong>  13 x 13 x 256</p>\n",
    "</li>\n",
    "<li><p><strong>Max pooling</strong></p>\n",
    "</li>\n",
    "<li><p><strong>Pooling size</strong>(overlapping) 3 x 3</p>\n",
    "</li>\n",
    "<li><p><strong>Stride</strong> 2</p>\n",
    "</li>\n",
    "<li><p><strong>Layer 8 Output</strong> 6 x 6 x 256</p>\n",
    "</li>\n",
    "</ul>\n"
   ]
  },
  {
   "cell_type": "code",
   "execution_count": null,
   "metadata": {},
   "outputs": [],
   "source": [
    "## TODO \n",
    "\n",
    "######################################################\n",
    "#  Calculate the number of parameters in this layer  #\n",
    "######################################################\n",
    "\n",
    "Max_pool_3 = 0 #pooling은 파라미터가 없다"
   ]
  },
  {
   "cell_type": "code",
   "execution_count": null,
   "metadata": {},
   "outputs": [],
   "source": [
    "# output = (input - filter) / stride + 1\n",
    "(13 - 3) / 2 + 1"
   ]
  },
  {
   "cell_type": "code",
   "execution_count": null,
   "metadata": {},
   "outputs": [],
   "source": [
    "6*6*256"
   ]
  },
  {
   "cell_type": "markdown",
   "metadata": {},
   "source": [
    "\n",
    "<h3 id=\"Layer-9-is-a-Fully_Connected-layer_1\">Layer 9 is a Fully_Connected layer_1<a class=\"anchor-link\" href=\"#Layer-9-is-a-Fully_Connected-layer_1\">¶</a></h3><ul>\n",
    "<li><p><strong>input</strong> 6 x 6 x 256</p>\n",
    "</li>\n",
    "<li><p><strong>flatten</strong> 6 x 6 x 256</p>\n",
    "</li>\n",
    "<li><p><strong>output size</strong> (N,flatten) x (flatten,4096)</p>\n",
    "</li>\n",
    "<li><p><strong>N</strong> Number of input data</p>\n",
    "</li>\n",
    "</ul>\n"
   ]
  },
  {
   "cell_type": "code",
   "execution_count": null,
   "metadata": {},
   "outputs": [],
   "source": [
    "## TODO \n",
    "\n",
    "######################################################\n",
    "#  Calculate the number of parameters in this layer  #\n",
    "######################################################\n",
    "\n",
    "FC1 = 9216 * 4096 + 4096 #가중치 + 편향"
   ]
  },
  {
   "cell_type": "markdown",
   "metadata": {},
   "source": [
    "\n",
    "<h3 id=\"Layer-10-is-a-Fully_Connected-layer_2\">Layer 10 is a Fully_Connected layer_2<a class=\"anchor-link\" href=\"#Layer-10-is-a-Fully_Connected-layer_2\">¶</a></h3><ul>\n",
    "<li><p><strong>input</strong> (N,4096)</p>\n",
    "</li>\n",
    "<li><p><strong>output size</strong> (N,4096) x (4096,4096)</p>\n",
    "</li>\n",
    "<li><p><strong>N</strong> Number of input data</p>\n",
    "</li>\n",
    "</ul>\n"
   ]
  },
  {
   "cell_type": "code",
   "execution_count": null,
   "metadata": {},
   "outputs": [],
   "source": [
    "## TODO \n",
    "\n",
    "######################################################\n",
    "#  Calculate the number of parameters in this layer  #\n",
    "######################################################\n",
    "\n",
    "FC2 = 4096 * 4096 + 4096 #가중치 + 편향"
   ]
  },
  {
   "cell_type": "markdown",
   "metadata": {},
   "source": [
    "\n",
    "<h3 id=\"Layer-11-is-a-Fully_Connected-layer_3\">Layer 11 is a Fully_Connected layer_3<a class=\"anchor-link\" href=\"#Layer-11-is-a-Fully_Connected-layer_3\">¶</a></h3><ul>\n",
    "<li><p><strong>input</strong> (N,4096)</p>\n",
    "</li>\n",
    "<li><p><strong>output size</strong> (N,4096) x (4096,Num_classes)</p>\n",
    "</li>\n",
    "<li><p><strong>N</strong> Number of input data</p>\n",
    "</li>\n",
    "<li><p><strong>Num_classes</strong> Number of labels = 1000</p>\n",
    "</li>\n",
    "</ul>\n"
   ]
  },
  {
   "cell_type": "code",
   "execution_count": null,
   "metadata": {},
   "outputs": [],
   "source": [
    "## TODO \n",
    "\n",
    "######################################################\n",
    "#  Calculate the number of parameters in this layer  #\n",
    "######################################################\n",
    "\n",
    "FC3 = 4096 * 1000 + 1000 #가중치 + 편향"
   ]
  },
  {
   "cell_type": "markdown",
   "metadata": {},
   "source": [
    "\n",
    "<h1 id=\"Q.2-Does-AlexNet-use-Dropout?\">Q.2 Does AlexNet use Dropout?<a class=\"anchor-link\" href=\"#Q.2-Does-AlexNet-use-Dropout?\">¶</a></h1>\n"
   ]
  },
  {
   "cell_type": "code",
   "execution_count": null,
   "metadata": {},
   "outputs": [],
   "source": [
    "## TODO\n",
    "'''\n",
    "fully connected 1,2전에 Dropout한다.\n",
    "(dropout > fc1 > relu > dropout > fc2 > relu > fc3)\n",
    "\n",
    "'''"
   ]
  },
  {
   "cell_type": "markdown",
   "metadata": {},
   "source": [
    "\n",
    "<h1 id=\"Q.3-Why-ReLU?\">Q.3 Why ReLU?<a class=\"anchor-link\" href=\"#Q.3-Why-ReLU?\">¶</a></h1>\n"
   ]
  },
  {
   "cell_type": "code",
   "execution_count": null,
   "metadata": {},
   "outputs": [],
   "source": [
    "## TODO\n",
    "'''\n",
    "why did they use ReLU?\n",
    "\n",
    "what are non-saturating neurons and saturating neurons?\n",
    "\n",
    "'''"
   ]
  },
  {
   "cell_type": "code",
   "execution_count": null,
   "metadata": {},
   "outputs": [],
   "source": [
    "\"\"\"\n",
    "1. ReLu사용 이유?\n",
    " :(tanh나 시그모이드보다) ReLu가 gradient descent할 때 연산이 빨라서 사용했다.\n",
    "2. saturate : sigmoid , tanh\n",
    "   non-saturate : ReLu\n",
    "   sigmoid나 tanh같은 활성화함수에서 극단값만을 가지는 경우를 saturating neurons라고한다.\n",
    "   saturating neurons는 backpropagation 과정에서 그레디언트(미분값)가 0에 가까워서 그레디언트가 소실되는 문제가 있다.\n",
    "\"\"\""
   ]
  },
  {
   "cell_type": "markdown",
   "metadata": {},
   "source": [
    "\n",
    "<h1 id=\"Q.4-Reducing-Overfitting-(-how-?)\">Q.4 Reducing Overfitting ( how ?)<a class=\"anchor-link\" href=\"#Q.4-Reducing-Overfitting-(-how-?)\">¶</a></h1>\n"
   ]
  },
  {
   "cell_type": "code",
   "execution_count": null,
   "metadata": {},
   "outputs": [],
   "source": [
    "## TODO\n",
    "'''\n",
    "what did they do to reduce overfitting in Alex net?\n",
    "at least 2 methods\n",
    "\n",
    "1. dropout\n",
    "2. 256x256에서(하나의 이미지 사이즈) 224x224 크기의 patch를 랜덤추출하고 수평반전시켰다.\n",
    "3. 2에서 얻은 데이터의 RGB채널을 변화시켰다.\n",
    "   RGB에 PCA를 수행하고 랜덤변수(평균0, 표준편차 0.1)를 원래 픽셀값에 더해주었다.\n",
    "'''"
   ]
  }
 ],
 "metadata": {
  "kernelspec": {
   "display_name": "Python 3",
   "language": "python",
   "name": "python3"
  },
  "language_info": {
   "codemirror_mode": {
    "name": "ipython",
    "version": 3
   },
   "file_extension": ".py",
   "mimetype": "text/x-python",
   "name": "python",
   "nbconvert_exporter": "python",
   "pygments_lexer": "ipython3",
   "version": "3.7.6"
  }
 },
 "nbformat": 4,
 "nbformat_minor": 1
}

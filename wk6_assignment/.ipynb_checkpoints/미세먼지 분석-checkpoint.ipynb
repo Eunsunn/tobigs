{
 "cells": [
  {
   "cell_type": "code",
   "execution_count": null,
   "metadata": {},
   "outputs": [],
   "source": [
    "import pandas as pd\n",
    "from datetime import datetime"
   ]
  },
  {
   "cell_type": "markdown",
   "metadata": {},
   "source": [
    "\n",
    "<h1 id=\"1.-Data-Load\">1. Data Load<a class=\"anchor-link\" href=\"#1.-Data-Load\">¶</a></h1>\n"
   ]
  },
  {
   "cell_type": "markdown",
   "metadata": {},
   "source": [
    "\n",
    "<h2 id=\"1)미세먼지-데이터\">1)미세먼지 데이터<a class=\"anchor-link\" href=\"#1)미세먼지-데이터\">¶</a></h2>\n"
   ]
  },
  {
   "cell_type": "code",
   "execution_count": null,
   "metadata": {},
   "outputs": [],
   "source": [
    "#데이터 불러오기\n",
    "df = pd.read_csv(\"./data.csv\")"
   ]
  },
  {
   "cell_type": "code",
   "execution_count": null,
   "metadata": {},
   "outputs": [],
   "source": [
    "#데이터에 결측치는 없다.\n",
    "df.isnull().sum()"
   ]
  },
  {
   "cell_type": "code",
   "execution_count": null,
   "metadata": {},
   "outputs": [],
   "source": [
    "df.head()"
   ]
  },
  {
   "cell_type": "code",
   "execution_count": null,
   "metadata": {},
   "outputs": [],
   "source": [
    "#인덱스인 첫번째 칼럼 삭제\n",
    "df.drop(df.columns[0], axis=1, inplace=True)"
   ]
  },
  {
   "cell_type": "code",
   "execution_count": null,
   "metadata": {},
   "outputs": [],
   "source": [
    "#1484개의 데이터와 13개의 피쳐로 이루어짐\n",
    "df.shape"
   ]
  },
  {
   "cell_type": "code",
   "execution_count": null,
   "metadata": {},
   "outputs": [],
   "source": [
    "############### 날짜 처리"
   ]
  },
  {
   "cell_type": "code",
   "execution_count": null,
   "metadata": {},
   "outputs": [],
   "source": [
    "#초 삭제\n",
    "df['dataTime'][0][:-6]\n",
    "df['dataTime'] = df['dataTime'].apply(lambda x: x[:-6])"
   ]
  },
  {
   "cell_type": "code",
   "execution_count": null,
   "metadata": {},
   "outputs": [],
   "source": [
    "#날짜 데이터로 바꾸기\n",
    "df['dataTime'] = df['dataTime'].apply(lambda x: datetime.strptime(x, \"%Y-%m-%d\").date())"
   ]
  },
  {
   "cell_type": "code",
   "execution_count": null,
   "metadata": {},
   "outputs": [],
   "source": [
    "#날짜별 평균으로 바꾸기\n",
    "data_by_day = df.groupby(df['dataTime'])"
   ]
  },
  {
   "cell_type": "code",
   "execution_count": null,
   "metadata": {},
   "outputs": [],
   "source": [
    "#총 64일의 데이터가 나왔다!\n",
    "data_by_day = data_by_day.mean()"
   ]
  },
  {
   "cell_type": "code",
   "execution_count": null,
   "metadata": {},
   "outputs": [],
   "source": [
    "#2019-01-01 ~ 2019-02-28 사이의 데이터만 얻기\n",
    "data_by_day = data_by_day[3:62]"
   ]
  },
  {
   "cell_type": "code",
   "execution_count": 1,
   "metadata": {},
   "outputs": [],
   "source": [
    "#데이터프레임의 미세먼지 = pm10Value"
   ]
  },
  {
   "cell_type": "markdown",
   "metadata": {},
   "source": [
    "\n",
    "<h2 id=\"2)-평균기온,-최고기온\">2) 평균기온, 최고기온<a class=\"anchor-link\" href=\"#2)-평균기온,-최고기온\">¶</a></h2>\n"
   ]
  },
  {
   "cell_type": "code",
   "execution_count": null,
   "metadata": {},
   "outputs": [],
   "source": [
    "temp = pd.read_csv('./tempair.csv', encoding=\"cp1252\")"
   ]
  },
  {
   "cell_type": "code",
   "execution_count": null,
   "metadata": {},
   "outputs": [],
   "source": [
    "#컬럼명 설정\n",
    "temp.columns = ['date', 'avr_temp', 'highest_temp']"
   ]
  },
  {
   "cell_type": "code",
   "execution_count": null,
   "metadata": {},
   "outputs": [],
   "source": [
    "#문자를 날짜데이터로 변환하기\n",
    "temp['date'] = temp['date'].apply(lambda x: datetime.strptime(x, \"%Y-%m-%d\").date())"
   ]
  },
  {
   "cell_type": "code",
   "execution_count": null,
   "metadata": {},
   "outputs": [],
   "source": [
    "#날짜를 인덱스로 설정\n",
    "temp = temp.set_index('date')"
   ]
  },
  {
   "cell_type": "markdown",
   "metadata": {},
   "source": [
    "\n",
    "<h2 id=\"3)-네이버-키워드-검색\">3) 네이버 키워드 검색<a class=\"anchor-link\" href=\"#3)-네이버-키워드-검색\">¶</a></h2>\n"
   ]
  },
  {
   "cell_type": "code",
   "execution_count": null,
   "metadata": {},
   "outputs": [],
   "source": [
    "keyword = pd.read_csv(\"./datalab.csv\")"
   ]
  },
  {
   "cell_type": "code",
   "execution_count": null,
   "metadata": {},
   "outputs": [],
   "source": [
    "#상위 6개 필요없는 설명데이터 삭제\n",
    "keyword.drop(keyword.index[:6], inplace=True)"
   ]
  },
  {
   "cell_type": "code",
   "execution_count": null,
   "metadata": {},
   "outputs": [],
   "source": [
    "#컬럼명 설정\n",
    "keyword.columns = ['date', 'click']"
   ]
  },
  {
   "cell_type": "code",
   "execution_count": null,
   "metadata": {},
   "outputs": [],
   "source": [
    "#문자열을 날짜데이터로 바꾸기\n",
    "keyword['date'] = keyword['date'].apply(lambda x: datetime.strptime(x, \"%Y-%m-%d\").date())"
   ]
  },
  {
   "cell_type": "code",
   "execution_count": null,
   "metadata": {},
   "outputs": [],
   "source": [
    "#날짜를 인덱스로 설정\n",
    "keyword = keyword.set_index('date')"
   ]
  },
  {
   "cell_type": "code",
   "execution_count": null,
   "metadata": {},
   "outputs": [],
   "source": [
    "#클릭횟수를 실수형(숫자)으로 바꾸기\n",
    "keyword['click'] = keyword['click'].apply(lambda x: float(x))"
   ]
  },
  {
   "cell_type": "markdown",
   "metadata": {},
   "source": [
    "\n",
    "<h2 id=\"3)-트위터-크롤링-데이터\">3) 트위터 크롤링 데이터<a class=\"anchor-link\" href=\"#3)-트위터-크롤링-데이터\">¶</a></h2>\n"
   ]
  },
  {
   "cell_type": "code",
   "execution_count": null,
   "metadata": {},
   "outputs": [],
   "source": [
    "#from twitterscraper import logging\n",
    "from twitterscraper import main\n",
    "from twitterscraper import query\n",
    "from twitterscraper import tweet\n",
    "import pandas as pd\n",
    "import codecs, json\n",
    "from twitterscraper import query_tweets"
   ]
  },
  {
   "cell_type": "code",
   "execution_count": null,
   "metadata": {},
   "outputs": [],
   "source": [
    "from __future__ import division\n",
    "import random\n",
    "import requests\n",
    "import datetime as dt\n",
    "import json\n",
    "from functools import partial\n",
    "from multiprocessing.pool import Pool\n",
    "from twitterscraper.tweet import Tweet"
   ]
  },
  {
   "cell_type": "code",
   "execution_count": null,
   "metadata": {},
   "outputs": [],
   "source": [
    "#트위터 크롤링\n",
    "if __name__ == '__main__':\n",
    "    list_of_tweets = query_tweets(\"마스크 공기\", begindate = dt.date(2019,1,1) ,enddate=dt.date(2019,3,1), poolsize =50)\n",
    "\n",
    "    #print the retrieved tweets to the screen:\n",
    "    for tweet in query_tweets(\"마스크 공기\", begindate = dt.date(2019,1,1) ,enddate=dt.date(2019,3,1), poolsize =50):\n",
    "        print(tweet)"
   ]
  },
  {
   "cell_type": "code",
   "execution_count": null,
   "metadata": {},
   "outputs": [],
   "source": [
    "#리스트로 받기\n",
    "text = []\n",
    "time = []"
   ]
  },
  {
   "cell_type": "code",
   "execution_count": null,
   "metadata": {},
   "outputs": [],
   "source": [
    "for i in range(len(list_of_tweets)) :\n",
    "    text += [{\"text\" : list_of_tweets[i].text}]\n",
    "    time += [{\"time\" : list_of_tweets[i].timestamp}]"
   ]
  },
  {
   "cell_type": "code",
   "execution_count": null,
   "metadata": {},
   "outputs": [],
   "source": [
    "#데이터 프레임으로 받기\n",
    "text_df = pd.DataFrame(text)\n",
    "time_df = pd.DataFrame(time)\n",
    "\n",
    "tweet_list = pd.concat([text_df,time_df],axis=1)"
   ]
  },
  {
   "cell_type": "code",
   "execution_count": null,
   "metadata": {},
   "outputs": [],
   "source": [
    "#시간순으로 정렬하기\n",
    "tweet_list = tweet_list.sort_values('time')\n",
    "#년-월-일만 받기\n",
    "tweet_list['time'] = tweet_list['time'].apply(lambda x: datetime.strptime(str(x)[:10], \"%Y-%m-%d\").date())\n",
    "#날짜별로 묶기\n",
    "tweet_group = tweet_list.groupby(tweet_list.time)\n",
    "#날짜별 트윗 개수\n",
    "tweet_group = pd.DataFrame(tweet_group.count()['text'])"
   ]
  },
  {
   "cell_type": "markdown",
   "metadata": {},
   "source": [
    "\n",
    "<h2 id=\"4)-데이터-합치기\">4) 데이터 합치기<a class=\"anchor-link\" href=\"#4)-데이터-합치기\">¶</a></h2>\n"
   ]
  },
  {
   "cell_type": "code",
   "execution_count": null,
   "metadata": {},
   "outputs": [],
   "source": [
    "# data_by_day.head()\n",
    "# data_by_day[['pm10Value']].head()\n",
    "# temp.head()\n",
    "# temp[['avr_temp','highest_temp']].head()\n",
    "# keyword.head()\n",
    "# tweet_group.head()"
   ]
  },
  {
   "cell_type": "code",
   "execution_count": null,
   "metadata": {},
   "outputs": [],
   "source": [
    "#합친 데이터\n",
    "data = pd.concat([data_by_day[['pm10Value']], temp, keyword, tweet_group], axis=1)\n",
    "#칼럼명 설정\n",
    "data.columns = ['fine_dust','avr_temp','highest_temp','click','tweet']"
   ]
  },
  {
   "cell_type": "markdown",
   "metadata": {},
   "source": [
    "\n",
    "<h1 id=\"2.-데이터-분석\">2. 분석<a class=\"anchor-link\" href=\"#2.-데이터-분석\">¶</a></h1>\n"
   ]
  },
  {
   "cell_type": "code",
   "execution_count": null,
   "metadata": {},
   "outputs": [],
   "source": [
    "#변수간의 상관분석 : 실제 미세먼지양과 트위터간의 상관관계가 네이버 클릭 횟수보다 컸다.\n",
    "data.corr()"
   ]
  },
  {
   "cell_type": "code",
   "execution_count": null,
   "metadata": {},
   "outputs": [],
   "source": [
    "from sklearn.linear_model import LinearRegression\n",
    "\n",
    "x = data[['avr_temp',\"highest_temp\"]]\n",
    "y1 = data['fine_dust']\n",
    "y2 = data['click']\n",
    "y3 = data['tweet']"
   ]
  },
  {
   "cell_type": "code",
   "execution_count": null,
   "metadata": {},
   "outputs": [],
   "source": [
    "#실제 미세먼지 양으로 선형회귀한 결과\n",
    "reg1 = LinearRegression().fit(x, y1)\n",
    "reg1.score(x, y1) #결정계수"
   ]
  },
  {
   "cell_type": "code",
   "execution_count": null,
   "metadata": {},
   "outputs": [],
   "source": [
    "#네이버 클릭횟수로 선형회귀한 결과\n",
    "reg2 = LinearRegression().fit(x, y2)\n",
    "reg2.score(x, y2) #결정계수"
   ]
  },
  {
   "cell_type": "code",
   "execution_count": null,
   "metadata": {},
   "outputs": [],
   "source": [
    "#트위터로 선형회귀한 결과\n",
    "reg3 = LinearRegression().fit(x, y3)\n",
    "reg3.score(x, y3) #결정계수"
   ]
  },
  {
   "cell_type": "code",
   "execution_count": null,
   "metadata": {},
   "outputs": [],
   "source": [
    "#기온정보로 미세먼지를 예측하는건 힘들다."
   ]
  }
 ],
 "metadata": {
  "kernelspec": {
   "display_name": "Python 3",
   "language": "python",
   "name": "python3"
  },
  "language_info": {
   "codemirror_mode": {
    "name": "ipython",
    "version": 3
   },
   "file_extension": ".py",
   "mimetype": "text/x-python",
   "name": "python",
   "nbconvert_exporter": "python",
   "pygments_lexer": "ipython3",
   "version": "3.7.6"
  }
 },
 "nbformat": 4,
 "nbformat_minor": 1
}

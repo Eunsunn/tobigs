{
 "cells": [
  {
   "cell_type": "code",
   "execution_count": null,
   "metadata": {},
   "outputs": [],
   "source": [
    "data=\"202h오112-2131-3256늘점0-2352-1235심은22 t9고등2263-3253-1231어03 !t&?2 56지금p22:시45ㄱ9ㅏㄴ2/@52-2345-1231@#5은039새/65w4432@3474-5432-1567#!&w34w2.2d 45032a 343t23ㅂ5ㅕ43ㄷa 3ㅏ596ㅅ40ㅓmㅅ23시a786 r343 2k4 08너521-2354-1234e  11ㅁt6ㅜ.6 008k2ㅁ7423-1234-1632r5ㅜ/22졸x55e1ㄹ23/@512-4346-8521b3ㅕ45o6467흑a@@r53ㅠd_354704j232P211W32Y2315\""
   ]
  },
  {
   "cell_type": "code",
   "execution_count": null,
   "metadata": {},
   "outputs": [],
   "source": [
    "#1번\n",
    "import re\n",
    "b1 = re.compile(\"[a-zA-Z(./_:)]\")\n",
    "b2 = b1.findall(data)\n",
    "print(b2)"
   ]
  },
  {
   "cell_type": "code",
   "execution_count": null,
   "metadata": {},
   "outputs": [],
   "source": [
    "#2번\n",
    "a1 = re.compile(\"\\d{2,4}-\\d{4}-\\d{4}\")\n",
    "a2 = a1.findall(data)\n",
    "print(a2)"
   ]
  },
  {
   "cell_type": "code",
   "execution_count": null,
   "metadata": {},
   "outputs": [],
   "source": [
    "b2.extend(['1','2','/','5','3','5','7','5'])\n",
    "print(b2)"
   ]
  },
  {
   "cell_type": "code",
   "execution_count": null,
   "metadata": {},
   "outputs": [],
   "source": [
    "output = \"\".join(b2)\n",
    "print(output)"
   ]
  },
  {
   "cell_type": "code",
   "execution_count": null,
   "metadata": {},
   "outputs": [],
   "source": [
    "c1 = re.compile(\"[가-힣ㄱ-ㅣ]\")\n",
    "c2 = c1.findall(data)\n",
    "print(c2)"
   ]
  },
  {
   "cell_type": "code",
   "execution_count": null,
   "metadata": {},
   "outputs": [],
   "source": [
    "\"\".join(c2)"
   ]
  },
  {
   "cell_type": "code",
   "execution_count": null,
   "metadata": {},
   "outputs": [],
   "source": [
    "#사이트의 댓글 = 오늘점심은고등어지금시간은새벽다섯시너무무졸려흑ㅠ"
   ]
  }
 ],
 "metadata": {
  "kernelspec": {
   "display_name": "Python 3",
   "language": "python",
   "name": "python3"
  },
  "language_info": {
   "codemirror_mode": {
    "name": "ipython",
    "version": 3
   },
   "file_extension": ".py",
   "mimetype": "text/x-python",
   "name": "python",
   "nbconvert_exporter": "python",
   "pygments_lexer": "ipython3",
   "version": "3.7.6"
  }
 },
 "nbformat": 4,
 "nbformat_minor": 1
}

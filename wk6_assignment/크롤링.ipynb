{
 "cells": [
  {
   "cell_type": "markdown",
   "metadata": {},
   "source": [
    "\n",
    "<h1 id=\"1.-크롤링\">1. 크롤링<a class=\"anchor-link\" href=\"#1.-크롤링\">¶</a></h1>\n"
   ]
  },
  {
   "cell_type": "code",
   "execution_count": null,
   "metadata": {},
   "outputs": [],
   "source": [
    "# 50개의 영화목록 뽑기\n",
    "# 해당 영화의 제목, 개봉일자, 평점, 누적관객수, 장르정보를 크롤링해 데이터셋 만들기\n",
    "# 만든 데이터셋으로 분석"
   ]
  },
  {
   "cell_type": "code",
   "execution_count": null,
   "metadata": {},
   "outputs": [],
   "source": [
    "import pandas as pd\n",
    "import numpy as np"
   ]
  },
  {
   "cell_type": "code",
   "execution_count": null,
   "metadata": {},
   "outputs": [],
   "source": [
    "from selenium import webdriver\n",
    "\n",
    "driver = webdriver.Chrome()\n",
    "url = \"https://movie.daum.net/boxoffice/yearly?year=2018\"\n",
    "driver.get(url)\n",
    "#드라이버로 beautifulSoup에 사용할 수있는 html 소스 받아오기\n",
    "html = driver.page_source"
   ]
  },
  {
   "cell_type": "code",
   "execution_count": null,
   "metadata": {},
   "outputs": [],
   "source": [
    "from bs4 import BeautifulSoup \n",
    "\n",
    "#html.parser를 이용해 요청받은 텍스트를 soup에 넣음\n",
    "soup = BeautifulSoup(html, 'html.parser')"
   ]
  },
  {
   "cell_type": "code",
   "execution_count": null,
   "metadata": {},
   "outputs": [],
   "source": [
    "#50개의 영화목록 뽑기\n",
    "movie_lists = []\n",
    "for movie in soup.select('div[class=info_tit] a'):\n",
    "    movie_lists.append(movie.text.strip())\n",
    "# movie_lists = pd.DataFrame(movie_lists, columns=['영화목록'])\n",
    "print(movie_lists)"
   ]
  },
  {
   "cell_type": "code",
   "execution_count": null,
   "metadata": {},
   "outputs": [],
   "source": [
    "#개봉일자\n",
    "dates = []\n",
    "for date in soup.select('span[class=info_state]'):\n",
    "    dates.append(date.text.strip().split(\" \")[0])\n",
    "print(dates)\n",
    "\n",
    "#네티즌 평점\n",
    "netizen = []\n",
    "for i in soup.select('span.grade_netizen'):\n",
    "    j = i.text.strip().split(\"\\n\")\n",
    "    netizen.append(int(j[1])+int(j[3])*0.1)\n",
    "print(netizen)\n",
    "\n",
    "#평론가 평점\n",
    "critic = []\n",
    "for i in soup.select('span.grade_critic'):\n",
    "    j = i.text.strip().split(\"\\n\")\n",
    "    critic.append(int(j[1])+int(j[3])*0.1)    \n",
    "print(critic)\n",
    "\n",
    "#각 영화 링크받아오기\n",
    "link = []\n",
    "for i in soup.select('span.link_type2 a'):\n",
    "    link.append(\"https://movie.daum.net\"+i.attrs['href'])\n",
    "print(link)\n",
    "links = link[0:2]"
   ]
  },
  {
   "cell_type": "code",
   "execution_count": null,
   "metadata": {},
   "outputs": [],
   "source": [
    "#각 영화 주소에 접속하기\n",
    "genre=[]\n",
    "total_audience=[]\n",
    "for i in link:\n",
    "    driver = webdriver.Chrome()\n",
    "    driver.get(i)\n",
    "    html = driver.page_source\n",
    "    soup = BeautifulSoup(html, 'html.parser')\n",
    "    #장르정보 append\n",
    "    for i in soup.select('dd.txt_main')[0]:\n",
    "        genre.append(i.strip())\n",
    "    #누적관객수 append\n",
    "    for i in soup.select('dd#totalAudience')[0]:\n",
    "        num = \"\"\n",
    "        for j in i.strip()[:-1].split(\",\"):\n",
    "            num += j\n",
    "        num = int(num)\n",
    "        total_audience.append(num)\n",
    "    driver.quit()\n",
    "print(genre)\n",
    "print(total_audience)"
   ]
  },
  {
   "cell_type": "code",
   "execution_count": null,
   "metadata": {},
   "outputs": [],
   "source": [
    "movie = pd.DataFrame(movie_lists)\n",
    "date = pd.DataFrame(dates)\n",
    "netizen_score = pd.DataFrame(netizen)\n",
    "critic_score = pd.DataFrame(critic) \n",
    "genre_info = pd.DataFrame(genre) \n",
    "total_audience_info = pd.DataFrame(total_audience)\n",
    "\n",
    "#데이터프레임으로 합치기\n",
    "df = pd.concat([movie, date, netizen_score, critic_score, genre_info, total_audience_info], axis=1)\n",
    "#데이터프레임 피쳐 네임 설정\n",
    "df.columns = ['movie_name', 'date', 'netizen_score', 'critic_score', 'genre_info', 'total_audience_info']"
   ]
  },
  {
   "cell_type": "markdown",
   "metadata": {},
   "source": [
    "\n",
    "<h1 id=\"2.-데이터분석\">2. 데이터분석<a class=\"anchor-link\" href=\"#2.-데이터분석\">¶</a></h1>\n"
   ]
  },
  {
   "cell_type": "code",
   "execution_count": null,
   "metadata": {},
   "outputs": [],
   "source": [
    "# 평점과 관객수의 상관성\n",
    "score = df[[\"netizen_score\",\"critic_score\",\"total_audience_info\"]]"
   ]
  },
  {
   "cell_type": "code",
   "execution_count": null,
   "metadata": {},
   "outputs": [],
   "source": [
    "#네티즌 평점보다 평론가 평점과 관객수의 상관성이 높다!\n",
    "corr = score.corr(method=\"pearson\")\n",
    "print(corr)"
   ]
  },
  {
   "cell_type": "code",
   "execution_count": null,
   "metadata": {},
   "outputs": [],
   "source": [
    "#공포영화는 여름에 잘될까? : 공포가 하나밖에 없으니까 스릴러로 해보자\n",
    "\n",
    "#스릴러 장르의 인덱스\n",
    "n = 0\n",
    "idx=[]\n",
    "for i in genre:\n",
    "    genre_list = i.split(\"/\")\n",
    "    if '스릴러' in genre_list:\n",
    "        idx.append(n)\n",
    "    n += 1\n",
    "print(idx)\n",
    "\n",
    "#스릴러 영화의 개봉날짜(month)\n",
    "month = []\n",
    "for i in df.loc[idx][\"date\"]:\n",
    "    month.append(int(i[3:5]))\n",
    "print(month)\n",
    "\n",
    "#스릴러 영화 관객수\n",
    "thrill_audience = list(df.loc[idx][\"total_audience_info\"])\n",
    "print(thrill_audience)"
   ]
  },
  {
   "cell_type": "code",
   "execution_count": null,
   "metadata": {},
   "outputs": [],
   "source": [
    "month = pd.DataFrame(month)\n",
    "thrill_audience = pd.DataFrame(thrill_audience)\n",
    "thrill = pd.concat([month,thrill_audience], axis=1)\n",
    "thrill.columns = ['month', 'total_audience']\n",
    "thrill.corr(method=\"pearson\")"
   ]
  },
  {
   "cell_type": "code",
   "execution_count": null,
   "metadata": {},
   "outputs": [],
   "source": [
    "# 공포영화가 여름에 잘되는거같지는 않다.\n",
    "# 막대그래프의 첫번째(스릴러장르)가 보헤미안랩소디인데, 스릴러 장르의 구분이 정확하지 않은 데이터이다.\n",
    "ax = thrill.plot.bar(x='month', y='total_audience', rot=0)"
   ]
  }
 ],
 "metadata": {
  "kernelspec": {
   "display_name": "Python 3",
   "language": "python",
   "name": "python3"
  },
  "language_info": {
   "codemirror_mode": {
    "name": "ipython",
    "version": 3
   },
   "file_extension": ".py",
   "mimetype": "text/x-python",
   "name": "python",
   "nbconvert_exporter": "python",
   "pygments_lexer": "ipython3",
   "version": "3.7.6"
  }
 },
 "nbformat": 4,
 "nbformat_minor": 1
}
